{
  "nbformat": 4,
  "nbformat_minor": 0,
  "metadata": {
    "colab": {
      "name": "practice.ipynb",
      "provenance": [],
      "toc_visible": true,
      "authorship_tag": "ABX9TyMzlrdIxLyo6I+zoZ83cPRy",
      "include_colab_link": true
    },
    "kernelspec": {
      "name": "python3",
      "display_name": "Python 3"
    },
    "language_info": {
      "name": "python"
    }
  },
  "cells": [
    {
      "cell_type": "markdown",
      "metadata": {
        "id": "view-in-github",
        "colab_type": "text"
      },
      "source": [
        "<a href=\"https://colab.research.google.com/github/yusra011/practicePy/blob/main/practice.ipynb\" target=\"_parent\"><img src=\"https://colab.research.google.com/assets/colab-badge.svg\" alt=\"Open In Colab\"/></a>"
      ]
    },
    {
      "cell_type": "markdown",
      "metadata": {
        "id": "Nz3w4Vhpf1FQ"
      },
      "source": [
        "#Python follows LEGB(Local scope,Enclosing Tag,Global scope,Built in scope"
      ]
    },
    {
      "cell_type": "code",
      "metadata": {
        "colab": {
          "base_uri": "https://localhost:8080/"
        },
        "id": "Y86YkTpJcC0_",
        "outputId": "e978e63b-a4d9-4007-dbba-fcd84b124cbd"
      },
      "source": [
        "def outer():\n",
        "  first=100\n",
        "  def inner():\n",
        "    global first #global keyword is used to make changes to a global variable inside a function\n",
        "    first=300\n",
        "    second=200\n",
        "    print(first)\n",
        "    print(second)\n",
        "  inner()\n",
        "#print(second)  it will throw an error\n",
        "print(first)\n",
        "outer()"
      ],
      "execution_count": null,
      "outputs": [
        {
          "output_type": "stream",
          "text": [
            "300\n",
            "300\n",
            "200\n"
          ],
          "name": "stdout"
        }
      ]
    },
    {
      "cell_type": "code",
      "metadata": {
        "colab": {
          "base_uri": "https://localhost:8080/"
        },
        "id": "rGp3m-VFh8DK",
        "outputId": "5a411c30-6f08-4a1b-d10e-f5c374973049"
      },
      "source": [
        "x=300\n",
        "def a():\n",
        "  def b():\n",
        "    x=200\n",
        "    print(x)\n",
        "  b()\n",
        "  print(x)\n",
        "a()\n",
        "print(x)"
      ],
      "execution_count": null,
      "outputs": [
        {
          "output_type": "stream",
          "text": [
            "200\n",
            "300\n",
            "300\n"
          ],
          "name": "stdout"
        }
      ]
    },
    {
      "cell_type": "markdown",
      "metadata": {
        "id": "CpaG2w4Vmjoe"
      },
      "source": [
        "#Global Keyword"
      ]
    },
    {
      "cell_type": "code",
      "metadata": {
        "colab": {
          "base_uri": "https://localhost:8080/"
        },
        "id": "52XQ23YTjzSn",
        "outputId": "f5883c86-18b1-4417-9cf1-4316ba729e18"
      },
      "source": [
        "greeting=\"Hello\"\n",
        "def change_global(name):\n",
        "  global greeting\n",
        "  greeting=name\n",
        "def greet():\n",
        "  print(greeting,'world')\n",
        "change_global('Hi')\n",
        "greet()"
      ],
      "execution_count": null,
      "outputs": [
        {
          "output_type": "stream",
          "text": [
            "Hi world\n"
          ],
          "name": "stdout"
        }
      ]
    },
    {
      "cell_type": "code",
      "metadata": {
        "colab": {
          "base_uri": "https://localhost:8080/"
        },
        "id": "-O4Dq4B_l3Sm",
        "outputId": "ac3c8a4d-a8e0-47da-ce29-cf75b075ac43"
      },
      "source": [
        "def outer():\n",
        "  first=1\n",
        "  def inner():\n",
        "    first=2\n",
        "    second=3\n",
        "    print(first+second)\n",
        "  inner()\n",
        "  print(first)\n",
        "outer()"
      ],
      "execution_count": null,
      "outputs": [
        {
          "output_type": "stream",
          "text": [
            "5\n",
            "1\n"
          ],
          "name": "stdout"
        }
      ]
    },
    {
      "cell_type": "markdown",
      "metadata": {
        "id": "SeWw6ivPmegU"
      },
      "source": [
        "#Non-Local Keyword(it will prevent the variable from trying to bind locally first, and force it to go a level 'higher up'.)"
      ]
    },
    {
      "cell_type": "code",
      "metadata": {
        "colab": {
          "base_uri": "https://localhost:8080/"
        },
        "id": "1ezdfmilmgxk",
        "outputId": "d0047cdf-c32b-4441-deeb-b01e5bee0022"
      },
      "source": [
        "def outer():\n",
        "  first=100\n",
        "  def inner():\n",
        "    nonlocal first\n",
        "    first=200\n",
        "    second=200\n",
        "    print(first)\n",
        "    print(first+second)\n",
        "  def inner2():\n",
        "    nonlocal first\n",
        "    first=300\n",
        "    third=300\n",
        "    print(first)\n",
        "    print(first+third)\n",
        "  inner2()\n",
        "  inner()\n",
        "  print(first)\n",
        "outer()\n",
        "print(first)\n"
      ],
      "execution_count": null,
      "outputs": [
        {
          "output_type": "stream",
          "text": [
            "300\n",
            "600\n",
            "200\n",
            "400\n",
            "300\n",
            "200\n"
          ],
          "name": "stdout"
        }
      ]
    },
    {
      "cell_type": "code",
      "metadata": {
        "colab": {
          "base_uri": "https://localhost:8080/"
        },
        "id": "8MNavap8pX-q",
        "outputId": "06202a0b-73a2-46c7-a2d1-ba2e1ff4d44f"
      },
      "source": [
        "def outer():\n",
        "  x=1\n",
        "  def inner():\n",
        "    #nonlocal x\n",
        "    x=2\n",
        "    print(x)\n",
        "  inner()\n",
        "  print(x)\n",
        "outer()"
      ],
      "execution_count": null,
      "outputs": [
        {
          "output_type": "stream",
          "text": [
            "2\n",
            "1\n"
          ],
          "name": "stdout"
        }
      ]
    },
    {
      "cell_type": "markdown",
      "metadata": {
        "id": "d6ymHkIlsW3D"
      },
      "source": [
        "#ENCAPSULATION\n",
        "private members are preceded by '__'(double underscore)\n",
        "protected members are preceded by '_'(single underscore)\n",
        "\n",
        "1) What is Encapsulation in Python?\n",
        "\n",
        "Encapsulation in Python is the process of wrapping up variables andmethods into a single entity. In programming, a class is an example that wraps all the variables and methods defined inside it.\n",
        "\n",
        "\n",
        "\n",
        "2) How can we achieve Encapsulation in Python?\n",
        "\n",
        "In Python, Encapsulation can be achieved using Private and Protected Access Members.\n",
        "\n",
        "\n",
        "\n",
        "3) How can we define a variable as Private?\n",
        "\n",
        "In Python, Private variables are preceded by using two underscores.\n",
        "\n",
        "\n",
        "\n",
        "4) How can we define a variable as Protected?\n",
        "\n",
        "In Python, Protected variables are preceded by using a single underscore."
      ]
    },
    {
      "cell_type": "code",
      "metadata": {
        "colab": {
          "base_uri": "https://localhost:8080/"
        },
        "id": "OdWeifEqsaVy",
        "outputId": "b8f2f9b5-2e1b-41d7-9d33-0ed76518295f"
      },
      "source": [
        "class Rectangle:\n",
        "  __length=0#private member\n",
        "  __breadth=0#private member\n",
        "  _side=100#protected member\n",
        "  def __init__(self):\n",
        "    self.__length=100\n",
        "    self.__breadth=100\n",
        "    print(self.__length,self.__breadth)\n",
        "class Area(Rectangle):\n",
        "  def area(self):\n",
        "    ar=self._side*self._side\n",
        "    print(ar)\n",
        "  \n",
        "rect=Area()\n",
        "rect.area()\n",
        "\n",
        "#rect.__length this will throw an error because we are accessing a private member outer a class\n",
        "#rect.__breadth"
      ],
      "execution_count": null,
      "outputs": [
        {
          "output_type": "stream",
          "text": [
            "100 100\n",
            "10000\n"
          ],
          "name": "stdout"
        }
      ]
    },
    {
      "cell_type": "code",
      "metadata": {
        "colab": {
          "base_uri": "https://localhost:8080/"
        },
        "id": "YEgH7ZaS16zj",
        "outputId": "fb659226-efe8-45e5-dc1a-c0d898b36935"
      },
      "source": [
        "class Laptop:\n",
        "    def __init__(self,price):\n",
        "        self._price=price\n",
        "    def get_price(self):\n",
        "        return self._price\n",
        "    def set_price(self,price):\n",
        "        self._price=price\n",
        "laptop=Laptop(3499)\n",
        "print(laptop.get_price())\n",
        "laptop.set_price(3999)\n",
        "print(laptop.get_price())\n"
      ],
      "execution_count": null,
      "outputs": [
        {
          "output_type": "stream",
          "text": [
            "3499\n",
            "3999\n"
          ],
          "name": "stdout"
        }
      ]
    },
    {
      "cell_type": "markdown",
      "metadata": {
        "id": "RchJTYGs5a1I"
      },
      "source": [
        "**IMPORTANT"
      ]
    },
    {
      "cell_type": "code",
      "metadata": {
        "colab": {
          "base_uri": "https://localhost:8080/"
        },
        "id": "6WE_frUO3gI3",
        "outputId": "f64b0a40-b17b-4f52-90b1-8fe6204d13cb"
      },
      "source": [
        "class Laptop1:\n",
        "  def __init__(self,price):\n",
        "    self.price=price\n",
        "  def get_price(self):\n",
        "    return self.price\n",
        "  def set_price(self,value):\n",
        "    if not isinstance(value,(int,float)):\n",
        "      raise TypeError('Value must be int or float')\n",
        "    print(self.value)\n",
        "laptop1=Laptop1(3400)\n",
        "print(laptop1.get_price())\n",
        "#laptop1.set_price('hi')\n",
        "#print(laptop1.get_price()) OR\n",
        "try:\n",
        "  laptop1.set_price('hi')\n",
        "except TypeError as error:\n",
        "  print(error)\n",
        "\n"
      ],
      "execution_count": null,
      "outputs": [
        {
          "output_type": "stream",
          "text": [
            "3400\n",
            "Value must be int or float\n"
          ],
          "name": "stdout"
        }
      ]
    },
    {
      "cell_type": "markdown",
      "metadata": {
        "id": "6yqeZUqxKSTo"
      },
      "source": [
        "#Python @property decorator\n",
        "property(fget,fset,fdel,doc)"
      ]
    },
    {
      "cell_type": "markdown",
      "metadata": {
        "id": "WV3VGTgqV-Bj"
      },
      "source": [
        "#fget()"
      ]
    },
    {
      "cell_type": "code",
      "metadata": {
        "id": "FdjDjP9nRKEi"
      },
      "source": [
        "class Person:\n",
        "    def __init__(self,first_name):\n",
        "        self._first_name=first_name\n",
        "    def get_first_name(self):\n",
        "        return self._first_name\n",
        "    first_name=property(fget=get_first_name)\n",
        "person=Person('John')\n",
        "print(person.first_name)\n",
        "        \n",
        "      "
      ],
      "execution_count": null,
      "outputs": []
    },
    {
      "cell_type": "markdown",
      "metadata": {
        "id": "mHE05pi-WCU3"
      },
      "source": [
        "#fget(),fset()"
      ]
    },
    {
      "cell_type": "code",
      "metadata": {
        "colab": {
          "base_uri": "https://localhost:8080/"
        },
        "id": "nqA4OhPrO835",
        "outputId": "09794214-8d30-4160-82ed-38d5a5948683"
      },
      "source": [
        "class Person:\n",
        "  def __init__(self,first_name):\n",
        "    self._first_name=first_name\n",
        "  def get_first_name(self):\n",
        "    return self._first_name\n",
        "  def set_first_name(self,name):\n",
        "     self._first_name=name\n",
        "  first_name=property(fget=get_first_name,fset=set_first_name)\n",
        "person=Person('John')\n",
        "print(person.first_name)\n",
        "person.set_first_name('Mike')\n",
        "print(person.first_name)\n"
      ],
      "execution_count": null,
      "outputs": [
        {
          "output_type": "stream",
          "text": [
            "John\n",
            "Mike\n"
          ],
          "name": "stdout"
        }
      ]
    },
    {
      "cell_type": "markdown",
      "metadata": {
        "id": "q0fngxskWGT5"
      },
      "source": [
        "#fget(),fset(),fdel()"
      ]
    },
    {
      "cell_type": "code",
      "metadata": {
        "colab": {
          "base_uri": "https://localhost:8080/"
        },
        "id": "pPD7NSHoUfY3",
        "outputId": "a7bcc28c-ea80-4a1a-dc34-7619d1eb7274"
      },
      "source": [
        "class Person:\n",
        "  def __init__(self,first_name):\n",
        "    self._first_name=first_name\n",
        "  def get_first_name(self):\n",
        "    return self._first_name\n",
        "  def set_first_name(self,name):\n",
        "     self._first_name=name\n",
        "  def del_first_name(self):\n",
        "    del self._first_name\n",
        "  first_name=property(fget=get_first_name,fset=set_first_name,fdel=del_first_name)\n",
        "person=Person('John')\n",
        "print(person.first_name)\n",
        "print(person.__dict__)\n",
        "person.set_first_name('Mike')\n",
        "print(person.first_name)\n",
        "print(person.__dict__)\n",
        "person.del_first_name()\n",
        "print(person.__dict__)\n",
        "#print(person.first_name)"
      ],
      "execution_count": null,
      "outputs": [
        {
          "output_type": "stream",
          "text": [
            "John\n",
            "{'_first_name': 'John'}\n",
            "Mike\n",
            "{'_first_name': 'Mike'}\n",
            "{}\n"
          ],
          "name": "stdout"
        }
      ]
    },
    {
      "cell_type": "code",
      "metadata": {
        "colab": {
          "base_uri": "https://localhost:8080/"
        },
        "id": "hsAHsy6cRjCy",
        "outputId": "e6ff220f-1155-44a0-ab04-24ad825f17d8"
      },
      "source": [
        "class Person1:\n",
        "  def __init__(self,first_name,last_name):\n",
        "    self._first_name=first_name\n",
        "    self._last_name=last_name\n",
        "  def get_first_name(self):\n",
        "    return self._first_name\n",
        "  def get_last_name(self):\n",
        "    return self._last_name\n",
        "  def set_first_name(self,value):\n",
        "    self._first_name=value \n",
        "  def set_last_name(self,value):\n",
        "    self._last_name=value \n",
        "  first_name=property(fget=get_first_name,fset=set_first_name)\n",
        "  last_name=property(fget=get_last_name,fset=set_last_name)\n",
        "person1=Person1('John','Doe')\n",
        "print(person1.first_name)\n",
        "print(person1.last_name)\n",
        "person1.set_first_name('Yusra')\n",
        "person1.set_last_name('khalil')\n",
        "print(person1.first_name)\n",
        "print(person1.last_name)\n",
        "print(person1.__dict__)"
      ],
      "execution_count": null,
      "outputs": [
        {
          "output_type": "stream",
          "text": [
            "John\n",
            "Doe\n",
            "Yusra\n",
            "khalil\n",
            "{'_first_name': 'Yusra', '_last_name': 'khalil'}\n"
          ],
          "name": "stdout"
        }
      ]
    },
    {
      "cell_type": "code",
      "metadata": {
        "colab": {
          "base_uri": "https://localhost:8080/"
        },
        "id": "x06FA292Wx0i",
        "outputId": "9970dac0-caed-41b3-83ef-0de73d451da6"
      },
      "source": [
        "class Pet:\n",
        "  def __init__(self,name1):\n",
        "    self.name1=name1\n",
        "  def name(self):\n",
        "    return self.name1\n",
        "  name_1=property(fget=name)\n",
        "pet=Pet('Tommy')\n",
        "print(pet.name_1)\n",
        "print(pet.__dict__)"
      ],
      "execution_count": null,
      "outputs": [
        {
          "output_type": "stream",
          "text": [
            "Tommy\n",
            "{'name1': 'Tommy'}\n"
          ],
          "name": "stdout"
        }
      ]
    },
    {
      "cell_type": "markdown",
      "metadata": {
        "id": "if5uUDmwaNdR"
      },
      "source": [
        "#OR"
      ]
    },
    {
      "cell_type": "code",
      "metadata": {
        "colab": {
          "base_uri": "https://localhost:8080/"
        },
        "id": "My1YZlQ9aJ2J",
        "outputId": "5fad7eb0-5bc2-4621-9bfb-81a42050bf60"
      },
      "source": [
        "class Pet:\n",
        "  def __init__(self,name1,age):\n",
        "    self.name1=name1\n",
        "    self.age=age\n",
        "  @property\n",
        "  def name(self):\n",
        "    return self.name1\n",
        "  def age(self):\n",
        "    return self.age\n",
        "  \n",
        "pet=Pet('Max',3)\n",
        "#print(pet.name_1)\n",
        "print(pet.__dict__)"
      ],
      "execution_count": null,
      "outputs": [
        {
          "output_type": "stream",
          "text": [
            "{'name1': 'Max', 'age': 3}\n"
          ],
          "name": "stdout"
        }
      ]
    },
    {
      "cell_type": "code",
      "metadata": {
        "colab": {
          "base_uri": "https://localhost:8080/"
        },
        "id": "BocStTNDa5d8",
        "outputId": "377817b9-40fb-4fb0-8ffc-d91c44c402d4"
      },
      "source": [
        "class Pet:\n",
        "  def __init__(self,name1):\n",
        "    self.name1=name1\n",
        "  @property\n",
        "  def name(self):\n",
        "    return self.name1\n",
        "  def set_name(self,value):\n",
        "    self.name1=value\n",
        "  \n",
        "pet=Pet('Max')\n",
        "pet.set_name('Tommy')\n",
        "#print(pet.name_1)\n",
        "print(pet.__dict__)"
      ],
      "execution_count": null,
      "outputs": [
        {
          "output_type": "stream",
          "text": [
            "{'name1': 'Tommy'}\n"
          ],
          "name": "stdout"
        }
      ]
    },
    {
      "cell_type": "code",
      "metadata": {
        "colab": {
          "base_uri": "https://localhost:8080/"
        },
        "id": "C8z_yt2dbYH2",
        "outputId": "28c94cf7-2c62-4b00-ef82-66abe87eebe2"
      },
      "source": [
        "class Pet:\n",
        "  def __init__(self,name1,age):\n",
        "    self.name1=name1\n",
        "    self.age=age\n",
        "  @property\n",
        "  def name(self):\n",
        "    return self.name1\n",
        "  def age(self):\n",
        "    return self.age\n",
        "  def set_name_age(self,value1,value2):\n",
        "    self.name1=value1\n",
        "    self.age=value2\n",
        "\n",
        "  \n",
        "pet=Pet('Max',3)\n",
        "print(pet.__dict__)\n",
        "#print(pet.name_1)\n",
        "pet.set_name_age('Tommy',8)\n",
        "print(pet.__dict__)"
      ],
      "execution_count": null,
      "outputs": [
        {
          "output_type": "stream",
          "text": [
            "{'name1': 'Max', 'age': 3}\n",
            "{'name1': 'Tommy', 'age': 8}\n"
          ],
          "name": "stdout"
        }
      ]
    },
    {
      "cell_type": "code",
      "metadata": {
        "colab": {
          "base_uri": "https://localhost:8080/"
        },
        "id": "bQm5-kotck-5",
        "outputId": "6a88a448-f8f2-4187-84d1-1bf399014c06"
      },
      "source": [
        "class Pet1:\n",
        "\n",
        "    def __init__(self, name, age):\n",
        "        self._name = name\n",
        "        self._age = age\n",
        "\n",
        "    @property\n",
        "    def name(self):\n",
        "        return self._name\n",
        "\n",
        "    @name.setter\n",
        "    def name(self, value):\n",
        "        self._name = value\n",
        "\n",
        "    @property\n",
        "    def age(self):\n",
        "        return self._age\n",
        "\n",
        "    @age.setter\n",
        "    def age(self, value):\n",
        "        if not isinstance(value,int):\n",
        "            raise TypeError('The value of age must be type int')\n",
        "        if not value>0:\n",
        "          raise ValueError('The value of age must be positive')\n",
        "        self._age = value\n",
        "\n",
        "try:\n",
        "    pet1=Pet1('Max','Tommy')\n",
        "except TypeError as error:\n",
        "    print(error)\n",
        "except ValueError as error:\n",
        "  print(error)\n",
        "print(pet1.name,pet1.age)"
      ],
      "execution_count": null,
      "outputs": [
        {
          "output_type": "stream",
          "text": [
            "Max Tommy\n"
          ],
          "name": "stdout"
        }
      ]
    },
    {
      "cell_type": "code",
      "metadata": {
        "colab": {
          "base_uri": "https://localhost:8080/"
        },
        "id": "Ca1lkYAngTEf",
        "outputId": "6e4887ad-4f6d-4469-faa2-2aeffef5f115"
      },
      "source": [
        "class Pet2:\n",
        "\n",
        "    def __init__(self, name, age):\n",
        "        self._name = name\n",
        "        self.age = age\n",
        "\n",
        "    @property\n",
        "    def name(self):\n",
        "        return self._name\n",
        "\n",
        "    @name.setter\n",
        "    def name(self, value):\n",
        "        self._name = value\n",
        "\n",
        "    @property\n",
        "    def age(self):\n",
        "        return self._age\n",
        "\n",
        "    @age.setter\n",
        "    def age(self, value):\n",
        "        if not isinstance(value, int):\n",
        "            raise TypeError('The value of age must be of type int.')\n",
        "        if not value > 0:\n",
        "            raise ValueError('The value of age must be a positive integer.')\n",
        "        self._age = value\n",
        "try:\n",
        "    pet2 = Pet2('Max','-10')\n",
        "except TypeError as error:\n",
        "    print(error)\n",
        "except ValueError as error:\n",
        "    print(error)"
      ],
      "execution_count": null,
      "outputs": [
        {
          "output_type": "stream",
          "text": [
            "The value of age must be of type int.\n"
          ],
          "name": "stdout"
        }
      ]
    },
    {
      "cell_type": "code",
      "metadata": {
        "colab": {
          "base_uri": "https://localhost:8080/"
        },
        "id": "kZ595mYEjB4m",
        "outputId": "891cbebb-0d88-4f83-f0e0-0f08ecb1fb87"
      },
      "source": [
        "class TechStack:\n",
        " \n",
        "    def __init__(self, tech_names):\n",
        "        self._tech_names = tech_names\n",
        " \n",
        "    @property\n",
        "    def tech_names(self):\n",
        "        return self._tech_names\n",
        " \n",
        "    @tech_names.setter\n",
        "    def tech_names(self, value):\n",
        "        self._tech_names = value\n",
        " \n",
        "    @tech_names.deleter\n",
        "    def tech_names(self):\n",
        "        del self._tech_names\n",
        " \n",
        "        \n",
        "tech_stack = TechStack('python,java,sql')\n",
        "print(tech_stack.tech_names)\n",
        " \n",
        "tech_stack.tech_names = 'python,sql'\n",
        "print(tech_stack.tech_names)\n",
        " \n",
        "del tech_stack.tech_names\n",
        "print(tech_stack.__dict__)"
      ],
      "execution_count": null,
      "outputs": [
        {
          "output_type": "stream",
          "text": [
            "python,java,sql\n",
            "python,sql\n",
            "{}\n"
          ],
          "name": "stdout"
        }
      ]
    },
    {
      "cell_type": "markdown",
      "metadata": {
        "id": "9qe4pdnxnFZ1"
      },
      "source": [
        "\n",
        "**Implement a class Game that has a property named level (read and modify property, defaults to 0). The value of the level attribute should be an integer in the range [0, 100]. Add validation at the instance creation and attribute modification stage. If the value is not of the int type, report a TypeError with the following message:\n",
        "\n",
        "'The value of level must be of type int.'\n",
        "\n",
        "If the value is outside the range [0, 100], set the exceeded boundary value (0 or 100 respectively). Then create a list called games consisting of four instances of the Game class:\n",
        "\n",
        "games = [Game(), Game(10), Game(-10), Game(120)]\n",
        "Iterate through the games list and print the value of each instance's level attribute.\n",
        "\n",
        "Expected result:\n",
        "\n",
        "0\n",
        "10\n",
        "0\n",
        "100\n"
      ]
    },
    {
      "cell_type": "code",
      "metadata": {
        "id": "BGdyQUN3nC3V"
      },
      "source": [
        "class Game:\n",
        " \n",
        "    def __init__(self, level=None):\n",
        "        self.level = level if level else 0\n",
        " \n",
        "    @property\n",
        "    def level(self):\n",
        "        return self._level\n",
        " \n",
        "    @level.setter\n",
        "    def level(self, value):\n",
        "        if not isinstance(value, int):\n",
        "            raise TypeError('The value of level must be of type int.')\n",
        "        if value < 0:\n",
        "            self._level = 0\n",
        "        elif value > 100:\n",
        "            self._level = 100\n",
        "        else:\n",
        "            self._level = value\n",
        " \n",
        " \n",
        "games = [Game(), Game(10), Game(-10), Game(120)]\n",
        "for game in games:\n",
        "    print(game.level)\n"
      ],
      "execution_count": null,
      "outputs": []
    },
    {
      "cell_type": "code",
      "metadata": {
        "colab": {
          "base_uri": "https://localhost:8080/"
        },
        "id": "kdMwT1hkpsx1",
        "outputId": "8163a1db-2567-4412-d81f-dfa869a18292"
      },
      "source": [
        "import math\n",
        "class Circle:\n",
        "    def __init__(self, radius):\n",
        "        self.radius = radius\n",
        "        self._area = None\n",
        " \n",
        "    @property\n",
        "    def radius(self):\n",
        "        return self._radius\n",
        " \n",
        "    @radius.setter\n",
        "    def radius(self, value):\n",
        "        self._radius = value\n",
        "        self._area = None\n",
        " \n",
        "    @property\n",
        "    def area(self):\n",
        "        if self._area is None:\n",
        "            self._area = math.pi * self._radius * self._radius\n",
        "        return self._area\n",
        " \n",
        " \n",
        "circle = Circle(3)\n",
        "print(f'{circle.area:.4f}')"
      ],
      "execution_count": null,
      "outputs": [
        {
          "output_type": "stream",
          "text": [
            "28.2743\n"
          ],
          "name": "stdout"
        }
      ]
    },
    {
      "cell_type": "code",
      "metadata": {
        "colab": {
          "base_uri": "https://localhost:8080/"
        },
        "id": "aM85dWCkruN6",
        "outputId": "1dc4d01e-8575-482a-83ec-f4b807ae57ca"
      },
      "source": [
        "import math\n",
        "\n",
        "\n",
        "class Circle:\n",
        "    def __init__(self, radius):\n",
        "        self.radius = radius\n",
        "        self._perimeter = None\n",
        "\n",
        "    @property\n",
        "    def radius(self):\n",
        "        return self._radius\n",
        "\n",
        "    @radius.setter\n",
        "    def radius(self, value):\n",
        "        self._radius = value\n",
        "        self._perimeter = None\n",
        "\n",
        "    @property\n",
        "    def perimeter(self):\n",
        "        if self._perimeter is None:\n",
        "            self._perimeter = 2* math.pi * self._radius\n",
        "        return self._perimeter\n",
        "circle = Circle(3)\n",
        "print(f'{circle.perimeter:.4f}')\n"
      ],
      "execution_count": null,
      "outputs": [
        {
          "output_type": "stream",
          "text": [
            "18.8496\n"
          ],
          "name": "stdout"
        }
      ]
    },
    {
      "cell_type": "code",
      "metadata": {
        "colab": {
          "base_uri": "https://localhost:8080/"
        },
        "id": "oJ6aZ6mosk5p",
        "outputId": "8c291ecf-f1cd-4b2b-8f32-ddcf811670f2"
      },
      "source": [
        "class Rectangle:\n",
        "    def __init__(self,width,height):\n",
        "        self.width=width\n",
        "        self.height=height\n",
        "    def area(self):\n",
        "        area=self.width*self.height\n",
        "        return area\n",
        "rect=Rectangle(3,4)\n",
        "print('width:',rect.width,',','height:',rect.height,',','area->',rect.area())\n"
      ],
      "execution_count": null,
      "outputs": [
        {
          "output_type": "stream",
          "text": [
            "width: 3 , height: 4 , area-> 12\n"
          ],
          "name": "stdout"
        }
      ]
    },
    {
      "cell_type": "code",
      "metadata": {
        "colab": {
          "base_uri": "https://localhost:8080/"
        },
        "id": "fUZ0jBggul_N",
        "outputId": "a8ab6b12-44e9-4702-b0a7-6287f7e25e6b"
      },
      "source": [
        "#Another way\n",
        "class Rectangle:\n",
        " \n",
        "    def __init__(self, width, height):\n",
        "        self.width = width\n",
        "        self.height = height\n",
        "        self._area = None\n",
        " \n",
        "    @property\n",
        "    def width(self):\n",
        "        return self._width\n",
        " \n",
        "    @width.setter\n",
        "    def width(self, value):\n",
        "        self._width = value\n",
        "        self._area = None\n",
        " \n",
        "    @property\n",
        "    def height(self):\n",
        "        return self._height\n",
        " \n",
        "    @height.setter\n",
        "    def height(self, value):\n",
        "        self._height = value\n",
        "        self._area = None\n",
        " \n",
        "    @property\n",
        "    def area(self):\n",
        "        if self._area is None:\n",
        "            self._area = self._width * self._height\n",
        "        return self._area\n",
        " \n",
        " \n",
        "rectangle = Rectangle(3, 4)\n",
        "print(f'width: {rectangle.width}, height: {rectangle.height} -> area: {rectangle.area}')\n"
      ],
      "execution_count": null,
      "outputs": [
        {
          "output_type": "stream",
          "text": [
            "width: 3, height: 4 -> area: 12\n"
          ],
          "name": "stdout"
        }
      ]
    },
    {
      "cell_type": "code",
      "metadata": {
        "colab": {
          "base_uri": "https://localhost:8080/"
        },
        "id": "b42byXz9wT7g",
        "outputId": "bd944471-e7e5-41d8-d8ea-9682faf93c18"
      },
      "source": [
        "class Rectangle:\n",
        "\n",
        "    def __init__(self, width, height):\n",
        "        self.width = width\n",
        "        self.height = height\n",
        "        self._perimeter = None\n",
        "\n",
        "    @property\n",
        "    def width(self):\n",
        "        return self._width\n",
        "\n",
        "    @width.setter\n",
        "    def width(self, value):\n",
        "        self._width = value\n",
        "        self._perimeter = None\n",
        "\n",
        "    @property\n",
        "    def height(self):\n",
        "        return self._height\n",
        "\n",
        "    @height.setter\n",
        "    def height(self, value):\n",
        "        self._height = value\n",
        "        self._perimeter = None\n",
        "\n",
        "    @property\n",
        "    def perimeter(self):\n",
        "        if self._perimeter is None:\n",
        "            self._perimeter = 2*(self._width + self._height)\n",
        "        return self._perimeter\n",
        "rect=Rectangle(3,4)\n",
        "print(f'width: {rect.width}, height: {rect.height} -> perimeter: {rect.perimeter}')"
      ],
      "execution_count": null,
      "outputs": [
        {
          "output_type": "stream",
          "text": [
            "width: 3, height: 4 -> perimeter: 14\n"
          ],
          "name": "stdout"
        }
      ]
    },
    {
      "cell_type": "code",
      "metadata": {
        "colab": {
          "base_uri": "https://localhost:8080/"
        },
        "id": "OED3Y221RfmF",
        "outputId": "45efaf17-254a-40f2-f4a5-f06d36d43df5"
      },
      "source": [
        "class Person:\n",
        " \n",
        "    def __init__(self, fname, lname):\n",
        "        self.fname = fname\n",
        "        self.lname = lname\n",
        " \n",
        "    def __repr__(self):\n",
        "        #rep='Person(fname=',self.fname,',lname=',self.lname,')'\n",
        "        return  f\"Person(fname='{self.fname}', lname='{self.lname}')\"\n",
        " \n",
        " \n",
        "person = Person('Anam', 'Khalil')\n",
        "print(person)"
      ],
      "execution_count": null,
      "outputs": [
        {
          "output_type": "stream",
          "text": [
            "Person(fname='Anam', lname='Khalil')\n"
          ],
          "name": "stdout"
        }
      ]
    },
    {
      "cell_type": "markdown",
      "metadata": {
        "id": "C2q5P7TcV42y"
      },
      "source": [
        "#classmethod()"
      ]
    },
    {
      "cell_type": "code",
      "metadata": {
        "colab": {
          "base_uri": "https://localhost:8080/"
        },
        "id": "uiuj6f27mNYh",
        "outputId": "ced11337-aab8-47da-aefb-fae599c461d7"
      },
      "source": [
        "class Person:\n",
        "    @classmethod\n",
        "    def show_details(cls):\n",
        "        print(f\"Running from {cls.__name__} class\")\n",
        "Person.show_details()"
      ],
      "execution_count": null,
      "outputs": [
        {
          "output_type": "stream",
          "text": [
            "Running from Person class\n"
          ],
          "name": "stdout"
        }
      ]
    },
    {
      "cell_type": "markdown",
      "metadata": {
        "id": "T_PpcXGEoVWw"
      },
      "source": [
        "#find the number of instances of class using classmethod decorator"
      ]
    },
    {
      "cell_type": "code",
      "metadata": {
        "colab": {
          "base_uri": "https://localhost:8080/"
        },
        "id": "jdrtEoIKnqb3",
        "outputId": "81b2e89a-0161-4366-dbca-373d6f4a788c"
      },
      "source": [
        "class Person:\n",
        "  instances=[]\n",
        "  def __init__(self):\n",
        "    Person.instances.append(self)\n",
        "  \n",
        "  @classmethod\n",
        "  def count_instances(cls):\n",
        "    return len(Person.instances)\n",
        "p1=Person()\n",
        "p2=Person()\n",
        "p3=Person()\n",
        "print(Person.count_instances())\n",
        "  "
      ],
      "execution_count": null,
      "outputs": [
        {
          "output_type": "stream",
          "text": [
            "3\n"
          ],
          "name": "stdout"
        }
      ]
    },
    {
      "cell_type": "code",
      "metadata": {
        "colab": {
          "base_uri": "https://localhost:8080/"
        },
        "id": "w4zLcqepodUQ",
        "outputId": "1e3ca142-cade-429f-b66e-4ab17d3b8cc0"
      },
      "source": [
        "class Person:\n",
        " \n",
        "    instances = []\n",
        " \n",
        "    def __init__(self, first_name, last_name):\n",
        "        self.first_name = first_name\n",
        "        self.last_name = last_name\n",
        "        Person.instances.append(self)\n",
        "    \n",
        "    @classmethod\n",
        "    def count_instances(cls):\n",
        "        return len(Person.instances)\n",
        " \n",
        " \n",
        "person1 = Person('John', 'Doe')\n",
        "person2 = Person('Mike', 'Smith')\n",
        "#person3=Person('Yusra','Khalil')\n",
        "print(Person.count_instances())#instance of Person class\n",
        "print(person1.count_instances())"
      ],
      "execution_count": null,
      "outputs": [
        {
          "output_type": "stream",
          "text": [
            "2\n",
            "2\n"
          ],
          "name": "stdout"
        }
      ]
    },
    {
      "cell_type": "markdown",
      "metadata": {
        "id": "m05l-cH5qW5l"
      },
      "source": [
        "#@staticmethod decorator\n",
        "(Static methods, much like class methods, are methods that are bound to a class rather than its object.\n",
        "\n",
        "They do not require a class instance creation. So, they are not dependent on the state of the object.)"
      ]
    },
    {
      "cell_type": "code",
      "metadata": {
        "colab": {
          "base_uri": "https://localhost:8080/"
        },
        "id": "z9mxEp-WqeYl",
        "outputId": "7368de91-32b3-43b1-eb03-49d845e23509"
      },
      "source": [
        "import datetime\n",
        "class container:\n",
        "      def __init__(self):\n",
        "        now=datetime.datetime.now()\n",
        "        print(now)\n",
        "c=container()\n"
      ],
      "execution_count": null,
      "outputs": [
        {
          "output_type": "stream",
          "text": [
            "2021-05-21 16:04:30.920930\n"
          ],
          "name": "stdout"
        }
      ]
    },
    {
      "cell_type": "code",
      "metadata": {
        "colab": {
          "base_uri": "https://localhost:8080/"
        },
        "id": "gBetQnxUrJYe",
        "outputId": "5723ea6f-cf83-40b9-c86e-d4683d739a00"
      },
      "source": [
        "import time\n",
        " \n",
        " \n",
        "class Container:\n",
        "\n",
        "    def get_current_time():\n",
        "        return time.strftime('%H:%M:%S', time.localtime())\n",
        " \n",
        "    \n",
        "print(Container.get_current_time())"
      ],
      "execution_count": null,
      "outputs": [
        {
          "output_type": "stream",
          "text": [
            "16:07:18\n"
          ],
          "name": "stdout"
        }
      ]
    },
    {
      "cell_type": "code",
      "metadata": {
        "colab": {
          "base_uri": "https://localhost:8080/"
        },
        "id": "MZjr8Xt0sEsl",
        "outputId": "7883fe55-1a40-4e6d-d5c3-d5343967bb81"
      },
      "source": [
        "#Example 1: Create a static method using staticmethod()\n",
        "class Mathematics:\n",
        "\n",
        "    def addNumbers(x, y):\n",
        "        return x + y\n",
        "\n",
        "# create addNumbers static method\n",
        "Mathematics.addNumbers = staticmethod(Mathematics.addNumbers)\n",
        "\n",
        "print('The sum is:', Mathematics.addNumbers(5, 10))"
      ],
      "execution_count": null,
      "outputs": [
        {
          "output_type": "stream",
          "text": [
            "The sum is: 15\n"
          ],
          "name": "stdout"
        }
      ]
    },
    {
      "cell_type": "markdown",
      "metadata": {
        "id": "vlyszQ0gtukY"
      },
      "source": [
        "#Inheritance"
      ]
    },
    {
      "cell_type": "code",
      "metadata": {
        "colab": {
          "base_uri": "https://localhost:8080/"
        },
        "id": "O99u1RfTt0c1",
        "outputId": "80da9dab-86ae-4fa7-b17d-189f34b4f228"
      },
      "source": [
        "class Container:\n",
        "    pass\n",
        "\n",
        "\n",
        "class PlasticContainer(Container):\n",
        "    pass\n",
        "\n",
        "\n",
        "class MetalContainer(Container):\n",
        "    pass\n",
        "\n",
        "\n",
        "class CustomContainer:\n",
        "    pass\n",
        "print(issubclass(PlasticContainer,Container))\n",
        "print(issubclass(MetalContainer,Container))\n",
        "print(issubclass(CustomContainer,Container))"
      ],
      "execution_count": null,
      "outputs": [
        {
          "output_type": "stream",
          "text": [
            "True\n",
            "True\n",
            "False\n"
          ],
          "name": "stdout"
        }
      ]
    },
    {
      "cell_type": "markdown",
      "metadata": {
        "id": "08uQMWoyv1ep"
      },
      "source": [
        "#MRO(Method resolution Order)-\n",
        "https://www.educative.io/edpresso/what-is-mro-in-python"
      ]
    },
    {
      "cell_type": "code",
      "metadata": {
        "colab": {
          "base_uri": "https://localhost:8080/"
        },
        "id": "laHZqYKvvA7C",
        "outputId": "c0fc1351-0200-40d4-c0c6-e6a281a4f0dc"
      },
      "source": [
        "class Container:\n",
        "    pass\n",
        "\n",
        "\n",
        "class PlasticContainer(Container):\n",
        "    pass\n",
        "\n",
        "\n",
        "class MetalContainer(Container):\n",
        "    pass\n",
        "\n",
        "\n",
        "class SmallPlasticContainer(PlasticContainer):\n",
        "    pass\n",
        "print(SmallPlasticContainer.mro())"
      ],
      "execution_count": null,
      "outputs": [
        {
          "output_type": "stream",
          "text": [
            "[<class '__main__.SmallPlasticContainer'>, <class '__main__.PlasticContainer'>, <class '__main__.Container'>, <class 'object'>]\n"
          ],
          "name": "stdout"
        }
      ]
    }
  ]
}