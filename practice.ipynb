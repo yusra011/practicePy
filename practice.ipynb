{
  "nbformat": 4,
  "nbformat_minor": 0,
  "metadata": {
    "colab": {
      "name": "practice.ipynb",
      "provenance": [],
      "authorship_tag": "ABX9TyPo9fuov+nhQ2UUHi3euYDF",
      "include_colab_link": true
    },
    "kernelspec": {
      "name": "python3",
      "display_name": "Python 3"
    },
    "language_info": {
      "name": "python"
    }
  },
  "cells": [
    {
      "cell_type": "markdown",
      "metadata": {
        "id": "view-in-github",
        "colab_type": "text"
      },
      "source": [
        "<a href=\"https://colab.research.google.com/github/yusra011/practicePy/blob/main/practice.ipynb\" target=\"_parent\"><img src=\"https://colab.research.google.com/assets/colab-badge.svg\" alt=\"Open In Colab\"/></a>"
      ]
    },
    {
      "cell_type": "code",
      "metadata": {
        "colab": {
          "base_uri": "https://localhost:8080/"
        },
        "id": "Y86YkTpJcC0_",
        "outputId": "e978e63b-a4d9-4007-dbba-fcd84b124cbd"
      },
      "source": [
        "def outer():\n",
        "  first=100\n",
        "  def inner():\n",
        "    global first #global keyword is used to make changes to a global variable inside a function\n",
        "    first=300\n",
        "    second=200\n",
        "    print(first)\n",
        "    print(second)\n",
        "  inner()\n",
        "#print(second)  it will throw an error\n",
        "print(first)\n",
        "outer()"
      ],
      "execution_count": null,
      "outputs": [
        {
          "output_type": "stream",
          "text": [
            "300\n",
            "300\n",
            "200\n"
          ],
          "name": "stdout"
        }
      ]
    },
    {
      "cell_type": "markdown",
      "metadata": {
        "id": "Nz3w4Vhpf1FQ"
      },
      "source": [
        "#Python follows LEGB(Local scope,Enclosing Tag,Global scope,Built in scope"
      ]
    },
    {
      "cell_type": "code",
      "metadata": {
        "colab": {
          "base_uri": "https://localhost:8080/"
        },
        "id": "rGp3m-VFh8DK",
        "outputId": "5a411c30-6f08-4a1b-d10e-f5c374973049"
      },
      "source": [
        "x=300\n",
        "def a():\n",
        "  def b():\n",
        "    x=200\n",
        "    print(x)\n",
        "  b()\n",
        "  print(x)\n",
        "a()\n",
        "print(x)"
      ],
      "execution_count": null,
      "outputs": [
        {
          "output_type": "stream",
          "text": [
            "200\n",
            "300\n",
            "300\n"
          ],
          "name": "stdout"
        }
      ]
    },
    {
      "cell_type": "markdown",
      "metadata": {
        "id": "CpaG2w4Vmjoe"
      },
      "source": [
        "#Global Keyword"
      ]
    },
    {
      "cell_type": "code",
      "metadata": {
        "colab": {
          "base_uri": "https://localhost:8080/"
        },
        "id": "52XQ23YTjzSn",
        "outputId": "f5883c86-18b1-4417-9cf1-4316ba729e18"
      },
      "source": [
        "greeting=\"Hello\"\n",
        "def change_global(name):\n",
        "  global greeting\n",
        "  greeting=name\n",
        "def greet():\n",
        "  print(greeting,'world')\n",
        "change_global('Hi')\n",
        "greet()"
      ],
      "execution_count": 22,
      "outputs": [
        {
          "output_type": "stream",
          "text": [
            "Hi world\n"
          ],
          "name": "stdout"
        }
      ]
    },
    {
      "cell_type": "code",
      "metadata": {
        "colab": {
          "base_uri": "https://localhost:8080/"
        },
        "id": "-O4Dq4B_l3Sm",
        "outputId": "ac3c8a4d-a8e0-47da-ce29-cf75b075ac43"
      },
      "source": [
        "def outer():\n",
        "  first=1\n",
        "  def inner():\n",
        "    first=2\n",
        "    second=3\n",
        "    print(first+second)\n",
        "  inner()\n",
        "  print(first)\n",
        "outer()"
      ],
      "execution_count": 21,
      "outputs": [
        {
          "output_type": "stream",
          "text": [
            "5\n",
            "1\n"
          ],
          "name": "stdout"
        }
      ]
    },
    {
      "cell_type": "markdown",
      "metadata": {
        "id": "SeWw6ivPmegU"
      },
      "source": [
        "#Non-Local Keyword(it will prevent the variable from trying to bind locally first, and force it to go a level 'higher up'.)"
      ]
    },
    {
      "cell_type": "code",
      "metadata": {
        "colab": {
          "base_uri": "https://localhost:8080/"
        },
        "id": "1ezdfmilmgxk",
        "outputId": "d0047cdf-c32b-4441-deeb-b01e5bee0022"
      },
      "source": [
        "def outer():\n",
        "  first=100\n",
        "  def inner():\n",
        "    nonlocal first\n",
        "    first=200\n",
        "    second=200\n",
        "    print(first)\n",
        "    print(first+second)\n",
        "  def inner2():\n",
        "    nonlocal first\n",
        "    first=300\n",
        "    third=300\n",
        "    print(first)\n",
        "    print(first+third)\n",
        "  inner2()\n",
        "  inner()\n",
        "  print(first)\n",
        "outer()\n",
        "print(first)\n"
      ],
      "execution_count": 41,
      "outputs": [
        {
          "output_type": "stream",
          "text": [
            "300\n",
            "600\n",
            "200\n",
            "400\n",
            "300\n",
            "200\n"
          ],
          "name": "stdout"
        }
      ]
    },
    {
      "cell_type": "code",
      "metadata": {
        "colab": {
          "base_uri": "https://localhost:8080/"
        },
        "id": "8MNavap8pX-q",
        "outputId": "06202a0b-73a2-46c7-a2d1-ba2e1ff4d44f"
      },
      "source": [
        "def outer():\n",
        "  x=1\n",
        "  def inner():\n",
        "    #nonlocal x\n",
        "    x=2\n",
        "    print(x)\n",
        "  inner()\n",
        "  print(x)\n",
        "outer()"
      ],
      "execution_count": 40,
      "outputs": [
        {
          "output_type": "stream",
          "text": [
            "2\n",
            "1\n"
          ],
          "name": "stdout"
        }
      ]
    },
    {
      "cell_type": "markdown",
      "metadata": {
        "id": "d6ymHkIlsW3D"
      },
      "source": [
        "#ENCAPSULATION\n",
        "private members are preceded by '__'(double underscore)\n",
        "protected members are preceded by '_'(single underscore)"
      ]
    },
    {
      "cell_type": "code",
      "metadata": {
        "colab": {
          "base_uri": "https://localhost:8080/"
        },
        "id": "OdWeifEqsaVy",
        "outputId": "b8f2f9b5-2e1b-41d7-9d33-0ed76518295f"
      },
      "source": [
        "class Rectangle:\n",
        "  __length=0#private member\n",
        "  __breadth=0#private member\n",
        "  _side=100#protected member\n",
        "  def __init__(self):\n",
        "    self.__length=100\n",
        "    self.__breadth=100\n",
        "    print(self.__length,self.__breadth)\n",
        "class Area(Rectangle):\n",
        "  def area(self):\n",
        "    ar=self._side*self._side\n",
        "    print(ar)\n",
        "  \n",
        "rect=Area()\n",
        "rect.area()\n",
        "\n",
        "#rect.__length this will throw an error because we are accessing a private member outer a class\n",
        "#rect.__breadth"
      ],
      "execution_count": 57,
      "outputs": [
        {
          "output_type": "stream",
          "text": [
            "100 100\n",
            "10000\n"
          ],
          "name": "stdout"
        }
      ]
    }
  ]
}