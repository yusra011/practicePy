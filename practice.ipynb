{
  "nbformat": 4,
  "nbformat_minor": 0,
  "metadata": {
    "colab": {
      "name": "practice.ipynb",
      "provenance": [],
      "toc_visible": true,
      "authorship_tag": "ABX9TyPJkLGJv1flzl7+IdDc7Bto",
      "include_colab_link": true
    },
    "kernelspec": {
      "name": "python3",
      "display_name": "Python 3"
    },
    "language_info": {
      "name": "python"
    }
  },
  "cells": [
    {
      "cell_type": "markdown",
      "metadata": {
        "id": "view-in-github",
        "colab_type": "text"
      },
      "source": [
        "<a href=\"https://colab.research.google.com/github/yusra011/practicePy/blob/main/practice.ipynb\" target=\"_parent\"><img src=\"https://colab.research.google.com/assets/colab-badge.svg\" alt=\"Open In Colab\"/></a>"
      ]
    },
    {
      "cell_type": "markdown",
      "metadata": {
        "id": "Nz3w4Vhpf1FQ"
      },
      "source": [
        "#Python follows LEGB(Local scope,Enclosing Tag,Global scope,Built in scope"
      ]
    },
    {
      "cell_type": "code",
      "metadata": {
        "colab": {
          "base_uri": "https://localhost:8080/"
        },
        "id": "Y86YkTpJcC0_",
        "outputId": "e978e63b-a4d9-4007-dbba-fcd84b124cbd"
      },
      "source": [
        "def outer():\n",
        "  first=100\n",
        "  def inner():\n",
        "    global first #global keyword is used to make changes to a global variable inside a function\n",
        "    first=300\n",
        "    second=200\n",
        "    print(first)\n",
        "    print(second)\n",
        "  inner()\n",
        "#print(second)  it will throw an error\n",
        "print(first)\n",
        "outer()"
      ],
      "execution_count": null,
      "outputs": [
        {
          "output_type": "stream",
          "text": [
            "300\n",
            "300\n",
            "200\n"
          ],
          "name": "stdout"
        }
      ]
    },
    {
      "cell_type": "code",
      "metadata": {
        "colab": {
          "base_uri": "https://localhost:8080/"
        },
        "id": "rGp3m-VFh8DK",
        "outputId": "5a411c30-6f08-4a1b-d10e-f5c374973049"
      },
      "source": [
        "x=300\n",
        "def a():\n",
        "  def b():\n",
        "    x=200\n",
        "    print(x)\n",
        "  b()\n",
        "  print(x)\n",
        "a()\n",
        "print(x)"
      ],
      "execution_count": null,
      "outputs": [
        {
          "output_type": "stream",
          "text": [
            "200\n",
            "300\n",
            "300\n"
          ],
          "name": "stdout"
        }
      ]
    },
    {
      "cell_type": "markdown",
      "metadata": {
        "id": "CpaG2w4Vmjoe"
      },
      "source": [
        "#Global Keyword"
      ]
    },
    {
      "cell_type": "code",
      "metadata": {
        "colab": {
          "base_uri": "https://localhost:8080/"
        },
        "id": "52XQ23YTjzSn",
        "outputId": "f5883c86-18b1-4417-9cf1-4316ba729e18"
      },
      "source": [
        "greeting=\"Hello\"\n",
        "def change_global(name):\n",
        "  global greeting\n",
        "  greeting=name\n",
        "def greet():\n",
        "  print(greeting,'world')\n",
        "change_global('Hi')\n",
        "greet()"
      ],
      "execution_count": null,
      "outputs": [
        {
          "output_type": "stream",
          "text": [
            "Hi world\n"
          ],
          "name": "stdout"
        }
      ]
    },
    {
      "cell_type": "code",
      "metadata": {
        "colab": {
          "base_uri": "https://localhost:8080/"
        },
        "id": "-O4Dq4B_l3Sm",
        "outputId": "ac3c8a4d-a8e0-47da-ce29-cf75b075ac43"
      },
      "source": [
        "def outer():\n",
        "  first=1\n",
        "  def inner():\n",
        "    first=2\n",
        "    second=3\n",
        "    print(first+second)\n",
        "  inner()\n",
        "  print(first)\n",
        "outer()"
      ],
      "execution_count": null,
      "outputs": [
        {
          "output_type": "stream",
          "text": [
            "5\n",
            "1\n"
          ],
          "name": "stdout"
        }
      ]
    },
    {
      "cell_type": "markdown",
      "metadata": {
        "id": "SeWw6ivPmegU"
      },
      "source": [
        "#Non-Local Keyword(it will prevent the variable from trying to bind locally first, and force it to go a level 'higher up'.)"
      ]
    },
    {
      "cell_type": "code",
      "metadata": {
        "colab": {
          "base_uri": "https://localhost:8080/"
        },
        "id": "1ezdfmilmgxk",
        "outputId": "d0047cdf-c32b-4441-deeb-b01e5bee0022"
      },
      "source": [
        "def outer():\n",
        "  first=100\n",
        "  def inner():\n",
        "    nonlocal first\n",
        "    first=200\n",
        "    second=200\n",
        "    print(first)\n",
        "    print(first+second)\n",
        "  def inner2():\n",
        "    nonlocal first\n",
        "    first=300\n",
        "    third=300\n",
        "    print(first)\n",
        "    print(first+third)\n",
        "  inner2()\n",
        "  inner()\n",
        "  print(first)\n",
        "outer()\n",
        "print(first)\n"
      ],
      "execution_count": null,
      "outputs": [
        {
          "output_type": "stream",
          "text": [
            "300\n",
            "600\n",
            "200\n",
            "400\n",
            "300\n",
            "200\n"
          ],
          "name": "stdout"
        }
      ]
    },
    {
      "cell_type": "code",
      "metadata": {
        "colab": {
          "base_uri": "https://localhost:8080/"
        },
        "id": "8MNavap8pX-q",
        "outputId": "06202a0b-73a2-46c7-a2d1-ba2e1ff4d44f"
      },
      "source": [
        "def outer():\n",
        "  x=1\n",
        "  def inner():\n",
        "    #nonlocal x\n",
        "    x=2\n",
        "    print(x)\n",
        "  inner()\n",
        "  print(x)\n",
        "outer()"
      ],
      "execution_count": null,
      "outputs": [
        {
          "output_type": "stream",
          "text": [
            "2\n",
            "1\n"
          ],
          "name": "stdout"
        }
      ]
    },
    {
      "cell_type": "markdown",
      "metadata": {
        "id": "d6ymHkIlsW3D"
      },
      "source": [
        "#ENCAPSULATION\n",
        "private members are preceded by '__'(double underscore)\n",
        "protected members are preceded by '_'(single underscore)\n",
        "\n",
        "1) What is Encapsulation in Python?\n",
        "\n",
        "Encapsulation in Python is the process of wrapping up variables andmethods into a single entity. In programming, a class is an example that wraps all the variables and methods defined inside it.\n",
        "\n",
        "\n",
        "\n",
        "2) How can we achieve Encapsulation in Python?\n",
        "\n",
        "In Python, Encapsulation can be achieved using Private and Protected Access Members.\n",
        "\n",
        "\n",
        "\n",
        "3) How can we define a variable as Private?\n",
        "\n",
        "In Python, Private variables are preceded by using two underscores.\n",
        "\n",
        "\n",
        "\n",
        "4) How can we define a variable as Protected?\n",
        "\n",
        "In Python, Protected variables are preceded by using a single underscore."
      ]
    },
    {
      "cell_type": "code",
      "metadata": {
        "colab": {
          "base_uri": "https://localhost:8080/"
        },
        "id": "OdWeifEqsaVy",
        "outputId": "b8f2f9b5-2e1b-41d7-9d33-0ed76518295f"
      },
      "source": [
        "class Rectangle:\n",
        "  __length=0#private member\n",
        "  __breadth=0#private member\n",
        "  _side=100#protected member\n",
        "  def __init__(self):\n",
        "    self.__length=100\n",
        "    self.__breadth=100\n",
        "    print(self.__length,self.__breadth)\n",
        "class Area(Rectangle):\n",
        "  def area(self):\n",
        "    ar=self._side*self._side\n",
        "    print(ar)\n",
        "  \n",
        "rect=Area()\n",
        "rect.area()\n",
        "\n",
        "#rect.__length this will throw an error because we are accessing a private member outer a class\n",
        "#rect.__breadth"
      ],
      "execution_count": null,
      "outputs": [
        {
          "output_type": "stream",
          "text": [
            "100 100\n",
            "10000\n"
          ],
          "name": "stdout"
        }
      ]
    },
    {
      "cell_type": "code",
      "metadata": {
        "colab": {
          "base_uri": "https://localhost:8080/"
        },
        "id": "YEgH7ZaS16zj",
        "outputId": "fb659226-efe8-45e5-dc1a-c0d898b36935"
      },
      "source": [
        "class Laptop:\n",
        "    def __init__(self,price):\n",
        "        self._price=price\n",
        "    def get_price(self):\n",
        "        return self._price\n",
        "    def set_price(self,price):\n",
        "        self._price=price\n",
        "laptop=Laptop(3499)\n",
        "print(laptop.get_price())\n",
        "laptop.set_price(3999)\n",
        "print(laptop.get_price())\n"
      ],
      "execution_count": null,
      "outputs": [
        {
          "output_type": "stream",
          "text": [
            "3499\n",
            "3999\n"
          ],
          "name": "stdout"
        }
      ]
    },
    {
      "cell_type": "markdown",
      "metadata": {
        "id": "RchJTYGs5a1I"
      },
      "source": [
        "**IMPORTANT"
      ]
    },
    {
      "cell_type": "code",
      "metadata": {
        "colab": {
          "base_uri": "https://localhost:8080/"
        },
        "id": "6WE_frUO3gI3",
        "outputId": "f64b0a40-b17b-4f52-90b1-8fe6204d13cb"
      },
      "source": [
        "class Laptop1:\n",
        "  def __init__(self,price):\n",
        "    self.price=price\n",
        "  def get_price(self):\n",
        "    return self.price\n",
        "  def set_price(self,value):\n",
        "    if not isinstance(value,(int,float)):\n",
        "      raise TypeError('Value must be int or float')\n",
        "    print(self.value)\n",
        "laptop1=Laptop1(3400)\n",
        "print(laptop1.get_price())\n",
        "#laptop1.set_price('hi')\n",
        "#print(laptop1.get_price()) OR\n",
        "try:\n",
        "  laptop1.set_price('hi')\n",
        "except TypeError as error:\n",
        "  print(error)\n",
        "\n"
      ],
      "execution_count": null,
      "outputs": [
        {
          "output_type": "stream",
          "text": [
            "3400\n",
            "Value must be int or float\n"
          ],
          "name": "stdout"
        }
      ]
    },
    {
      "cell_type": "markdown",
      "metadata": {
        "id": "6yqeZUqxKSTo"
      },
      "source": [
        "#Python @property decorator\n",
        "property(fget,fset,fdel,doc)"
      ]
    },
    {
      "cell_type": "markdown",
      "metadata": {
        "id": "WV3VGTgqV-Bj"
      },
      "source": [
        "#fget()"
      ]
    },
    {
      "cell_type": "code",
      "metadata": {
        "id": "FdjDjP9nRKEi"
      },
      "source": [
        "class Person:\n",
        "    def __init__(self,first_name):\n",
        "        self._first_name=first_name\n",
        "    def get_first_name(self):\n",
        "        return self._first_name\n",
        "    first_name=property(fget=get_first_name)\n",
        "person=Person('John')\n",
        "print(person.first_name)\n",
        "        \n",
        "      "
      ],
      "execution_count": null,
      "outputs": []
    },
    {
      "cell_type": "markdown",
      "metadata": {
        "id": "mHE05pi-WCU3"
      },
      "source": [
        "#fget(),fset()"
      ]
    },
    {
      "cell_type": "code",
      "metadata": {
        "colab": {
          "base_uri": "https://localhost:8080/"
        },
        "id": "nqA4OhPrO835",
        "outputId": "09794214-8d30-4160-82ed-38d5a5948683"
      },
      "source": [
        "class Person:\n",
        "  def __init__(self,first_name):\n",
        "    self._first_name=first_name\n",
        "  def get_first_name(self):\n",
        "    return self._first_name\n",
        "  def set_first_name(self,name):\n",
        "     self._first_name=name\n",
        "  first_name=property(fget=get_first_name,fset=set_first_name)\n",
        "person=Person('John')\n",
        "print(person.first_name)\n",
        "person.set_first_name('Mike')\n",
        "print(person.first_name)\n"
      ],
      "execution_count": null,
      "outputs": [
        {
          "output_type": "stream",
          "text": [
            "John\n",
            "Mike\n"
          ],
          "name": "stdout"
        }
      ]
    },
    {
      "cell_type": "markdown",
      "metadata": {
        "id": "q0fngxskWGT5"
      },
      "source": [
        "#fget(),fset(),fdel()"
      ]
    },
    {
      "cell_type": "code",
      "metadata": {
        "colab": {
          "base_uri": "https://localhost:8080/"
        },
        "id": "pPD7NSHoUfY3",
        "outputId": "a7bcc28c-ea80-4a1a-dc34-7619d1eb7274"
      },
      "source": [
        "class Person:\n",
        "  def __init__(self,first_name):\n",
        "    self._first_name=first_name\n",
        "  def get_first_name(self):\n",
        "    return self._first_name\n",
        "  def set_first_name(self,name):\n",
        "     self._first_name=name\n",
        "  def del_first_name(self):\n",
        "    del self._first_name\n",
        "  first_name=property(fget=get_first_name,fset=set_first_name,fdel=del_first_name)\n",
        "person=Person('John')\n",
        "print(person.first_name)\n",
        "print(person.__dict__)\n",
        "person.set_first_name('Mike')\n",
        "print(person.first_name)\n",
        "print(person.__dict__)\n",
        "person.del_first_name()\n",
        "print(person.__dict__)\n",
        "#print(person.first_name)"
      ],
      "execution_count": null,
      "outputs": [
        {
          "output_type": "stream",
          "text": [
            "John\n",
            "{'_first_name': 'John'}\n",
            "Mike\n",
            "{'_first_name': 'Mike'}\n",
            "{}\n"
          ],
          "name": "stdout"
        }
      ]
    },
    {
      "cell_type": "code",
      "metadata": {
        "colab": {
          "base_uri": "https://localhost:8080/"
        },
        "id": "hsAHsy6cRjCy",
        "outputId": "e6ff220f-1155-44a0-ab04-24ad825f17d8"
      },
      "source": [
        "class Person1:\n",
        "  def __init__(self,first_name,last_name):\n",
        "    self._first_name=first_name\n",
        "    self._last_name=last_name\n",
        "  def get_first_name(self):\n",
        "    return self._first_name\n",
        "  def get_last_name(self):\n",
        "    return self._last_name\n",
        "  def set_first_name(self,value):\n",
        "    self._first_name=value \n",
        "  def set_last_name(self,value):\n",
        "    self._last_name=value \n",
        "  first_name=property(fget=get_first_name,fset=set_first_name)\n",
        "  last_name=property(fget=get_last_name,fset=set_last_name)\n",
        "person1=Person1('John','Doe')\n",
        "print(person1.first_name)\n",
        "print(person1.last_name)\n",
        "person1.set_first_name('Yusra')\n",
        "person1.set_last_name('khalil')\n",
        "print(person1.first_name)\n",
        "print(person1.last_name)\n",
        "print(person1.__dict__)"
      ],
      "execution_count": null,
      "outputs": [
        {
          "output_type": "stream",
          "text": [
            "John\n",
            "Doe\n",
            "Yusra\n",
            "khalil\n",
            "{'_first_name': 'Yusra', '_last_name': 'khalil'}\n"
          ],
          "name": "stdout"
        }
      ]
    },
    {
      "cell_type": "code",
      "metadata": {
        "colab": {
          "base_uri": "https://localhost:8080/"
        },
        "id": "x06FA292Wx0i",
        "outputId": "9970dac0-caed-41b3-83ef-0de73d451da6"
      },
      "source": [
        "class Pet:\n",
        "  def __init__(self,name1):\n",
        "    self.name1=name1\n",
        "  def name(self):\n",
        "    return self.name1\n",
        "  name_1=property(fget=name)\n",
        "pet=Pet('Tommy')\n",
        "print(pet.name_1)\n",
        "print(pet.__dict__)"
      ],
      "execution_count": null,
      "outputs": [
        {
          "output_type": "stream",
          "text": [
            "Tommy\n",
            "{'name1': 'Tommy'}\n"
          ],
          "name": "stdout"
        }
      ]
    },
    {
      "cell_type": "markdown",
      "metadata": {
        "id": "if5uUDmwaNdR"
      },
      "source": [
        "#OR"
      ]
    },
    {
      "cell_type": "code",
      "metadata": {
        "colab": {
          "base_uri": "https://localhost:8080/"
        },
        "id": "My1YZlQ9aJ2J",
        "outputId": "5fad7eb0-5bc2-4621-9bfb-81a42050bf60"
      },
      "source": [
        "class Pet:\n",
        "  def __init__(self,name1,age):\n",
        "    self.name1=name1\n",
        "    self.age=age\n",
        "  @property\n",
        "  def name(self):\n",
        "    return self.name1\n",
        "  def age(self):\n",
        "    return self.age\n",
        "  \n",
        "pet=Pet('Max',3)\n",
        "#print(pet.name_1)\n",
        "print(pet.__dict__)"
      ],
      "execution_count": null,
      "outputs": [
        {
          "output_type": "stream",
          "text": [
            "{'name1': 'Max', 'age': 3}\n"
          ],
          "name": "stdout"
        }
      ]
    },
    {
      "cell_type": "code",
      "metadata": {
        "colab": {
          "base_uri": "https://localhost:8080/"
        },
        "id": "BocStTNDa5d8",
        "outputId": "377817b9-40fb-4fb0-8ffc-d91c44c402d4"
      },
      "source": [
        "class Pet:\n",
        "  def __init__(self,name1):\n",
        "    self.name1=name1\n",
        "  @property\n",
        "  def name(self):\n",
        "    return self.name1\n",
        "  def set_name(self,value):\n",
        "    self.name1=value\n",
        "  \n",
        "pet=Pet('Max')\n",
        "pet.set_name('Tommy')\n",
        "#print(pet.name_1)\n",
        "print(pet.__dict__)"
      ],
      "execution_count": null,
      "outputs": [
        {
          "output_type": "stream",
          "text": [
            "{'name1': 'Tommy'}\n"
          ],
          "name": "stdout"
        }
      ]
    },
    {
      "cell_type": "code",
      "metadata": {
        "colab": {
          "base_uri": "https://localhost:8080/"
        },
        "id": "C8z_yt2dbYH2",
        "outputId": "28c94cf7-2c62-4b00-ef82-66abe87eebe2"
      },
      "source": [
        "class Pet:\n",
        "  def __init__(self,name1,age):\n",
        "    self.name1=name1\n",
        "    self.age=age\n",
        "  @property\n",
        "  def name(self):\n",
        "    return self.name1\n",
        "  def age(self):\n",
        "    return self.age\n",
        "  def set_name_age(self,value1,value2):\n",
        "    self.name1=value1\n",
        "    self.age=value2\n",
        "\n",
        "  \n",
        "pet=Pet('Max',3)\n",
        "print(pet.__dict__)\n",
        "#print(pet.name_1)\n",
        "pet.set_name_age('Tommy',8)\n",
        "print(pet.__dict__)"
      ],
      "execution_count": null,
      "outputs": [
        {
          "output_type": "stream",
          "text": [
            "{'name1': 'Max', 'age': 3}\n",
            "{'name1': 'Tommy', 'age': 8}\n"
          ],
          "name": "stdout"
        }
      ]
    },
    {
      "cell_type": "code",
      "metadata": {
        "colab": {
          "base_uri": "https://localhost:8080/"
        },
        "id": "bQm5-kotck-5",
        "outputId": "6a88a448-f8f2-4187-84d1-1bf399014c06"
      },
      "source": [
        "class Pet1:\n",
        "\n",
        "    def __init__(self, name, age):\n",
        "        self._name = name\n",
        "        self._age = age\n",
        "\n",
        "    @property\n",
        "    def name(self):\n",
        "        return self._name\n",
        "\n",
        "    @name.setter\n",
        "    def name(self, value):\n",
        "        self._name = value\n",
        "\n",
        "    @property\n",
        "    def age(self):\n",
        "        return self._age\n",
        "\n",
        "    @age.setter\n",
        "    def age(self, value):\n",
        "        if not isinstance(value,int):\n",
        "            raise TypeError('The value of age must be type int')\n",
        "        if not value>0:\n",
        "          raise ValueError('The value of age must be positive')\n",
        "        self._age = value\n",
        "\n",
        "try:\n",
        "    pet1=Pet1('Max','Tommy')\n",
        "except TypeError as error:\n",
        "    print(error)\n",
        "except ValueError as error:\n",
        "  print(error)\n",
        "print(pet1.name,pet1.age)"
      ],
      "execution_count": null,
      "outputs": [
        {
          "output_type": "stream",
          "text": [
            "Max Tommy\n"
          ],
          "name": "stdout"
        }
      ]
    },
    {
      "cell_type": "code",
      "metadata": {
        "colab": {
          "base_uri": "https://localhost:8080/"
        },
        "id": "Ca1lkYAngTEf",
        "outputId": "6e4887ad-4f6d-4469-faa2-2aeffef5f115"
      },
      "source": [
        "class Pet2:\n",
        "\n",
        "    def __init__(self, name, age):\n",
        "        self._name = name\n",
        "        self.age = age\n",
        "\n",
        "    @property\n",
        "    def name(self):\n",
        "        return self._name\n",
        "\n",
        "    @name.setter\n",
        "    def name(self, value):\n",
        "        self._name = value\n",
        "\n",
        "    @property\n",
        "    def age(self):\n",
        "        return self._age\n",
        "\n",
        "    @age.setter\n",
        "    def age(self, value):\n",
        "        if not isinstance(value, int):\n",
        "            raise TypeError('The value of age must be of type int.')\n",
        "        if not value > 0:\n",
        "            raise ValueError('The value of age must be a positive integer.')\n",
        "        self._age = value\n",
        "try:\n",
        "    pet2 = Pet2('Max','-10')\n",
        "except TypeError as error:\n",
        "    print(error)\n",
        "except ValueError as error:\n",
        "    print(error)"
      ],
      "execution_count": null,
      "outputs": [
        {
          "output_type": "stream",
          "text": [
            "The value of age must be of type int.\n"
          ],
          "name": "stdout"
        }
      ]
    },
    {
      "cell_type": "code",
      "metadata": {
        "colab": {
          "base_uri": "https://localhost:8080/"
        },
        "id": "kZ595mYEjB4m",
        "outputId": "891cbebb-0d88-4f83-f0e0-0f08ecb1fb87"
      },
      "source": [
        "class TechStack:\n",
        " \n",
        "    def __init__(self, tech_names):\n",
        "        self._tech_names = tech_names\n",
        " \n",
        "    @property\n",
        "    def tech_names(self):\n",
        "        return self._tech_names\n",
        " \n",
        "    @tech_names.setter\n",
        "    def tech_names(self, value):\n",
        "        self._tech_names = value\n",
        " \n",
        "    @tech_names.deleter\n",
        "    def tech_names(self):\n",
        "        del self._tech_names\n",
        " \n",
        "        \n",
        "tech_stack = TechStack('python,java,sql')\n",
        "print(tech_stack.tech_names)\n",
        " \n",
        "tech_stack.tech_names = 'python,sql'\n",
        "print(tech_stack.tech_names)\n",
        " \n",
        "del tech_stack.tech_names\n",
        "print(tech_stack.__dict__)"
      ],
      "execution_count": null,
      "outputs": [
        {
          "output_type": "stream",
          "text": [
            "python,java,sql\n",
            "python,sql\n",
            "{}\n"
          ],
          "name": "stdout"
        }
      ]
    },
    {
      "cell_type": "markdown",
      "metadata": {
        "id": "9qe4pdnxnFZ1"
      },
      "source": [
        "\n",
        "**Implement a class Game that has a property named level (read and modify property, defaults to 0). The value of the level attribute should be an integer in the range [0, 100]. Add validation at the instance creation and attribute modification stage. If the value is not of the int type, report a TypeError with the following message:\n",
        "\n",
        "'The value of level must be of type int.'\n",
        "\n",
        "If the value is outside the range [0, 100], set the exceeded boundary value (0 or 100 respectively). Then create a list called games consisting of four instances of the Game class:\n",
        "\n",
        "games = [Game(), Game(10), Game(-10), Game(120)]\n",
        "Iterate through the games list and print the value of each instance's level attribute.\n",
        "\n",
        "Expected result:\n",
        "\n",
        "0\n",
        "10\n",
        "0\n",
        "100\n"
      ]
    },
    {
      "cell_type": "code",
      "metadata": {
        "id": "BGdyQUN3nC3V"
      },
      "source": [
        "class Game:\n",
        " \n",
        "    def __init__(self, level=None):\n",
        "        self.level = level if level else 0\n",
        " \n",
        "    @property\n",
        "    def level(self):\n",
        "        return self._level\n",
        " \n",
        "    @level.setter\n",
        "    def level(self, value):\n",
        "        if not isinstance(value, int):\n",
        "            raise TypeError('The value of level must be of type int.')\n",
        "        if value < 0:\n",
        "            self._level = 0\n",
        "        elif value > 100:\n",
        "            self._level = 100\n",
        "        else:\n",
        "            self._level = value\n",
        " \n",
        " \n",
        "games = [Game(), Game(10), Game(-10), Game(120)]\n",
        "for game in games:\n",
        "    print(game.level)\n"
      ],
      "execution_count": null,
      "outputs": []
    },
    {
      "cell_type": "code",
      "metadata": {
        "colab": {
          "base_uri": "https://localhost:8080/"
        },
        "id": "kdMwT1hkpsx1",
        "outputId": "8163a1db-2567-4412-d81f-dfa869a18292"
      },
      "source": [
        "import math\n",
        "class Circle:\n",
        "    def __init__(self, radius):\n",
        "        self.radius = radius\n",
        "        self._area = None\n",
        " \n",
        "    @property\n",
        "    def radius(self):\n",
        "        return self._radius\n",
        " \n",
        "    @radius.setter\n",
        "    def radius(self, value):\n",
        "        self._radius = value\n",
        "        self._area = None\n",
        " \n",
        "    @property\n",
        "    def area(self):\n",
        "        if self._area is None:\n",
        "            self._area = math.pi * self._radius * self._radius\n",
        "        return self._area\n",
        " \n",
        " \n",
        "circle = Circle(3)\n",
        "print(f'{circle.area:.4f}')"
      ],
      "execution_count": null,
      "outputs": [
        {
          "output_type": "stream",
          "text": [
            "28.2743\n"
          ],
          "name": "stdout"
        }
      ]
    },
    {
      "cell_type": "code",
      "metadata": {
        "colab": {
          "base_uri": "https://localhost:8080/"
        },
        "id": "aM85dWCkruN6",
        "outputId": "1dc4d01e-8575-482a-83ec-f4b807ae57ca"
      },
      "source": [
        "import math\n",
        "\n",
        "\n",
        "class Circle:\n",
        "    def __init__(self, radius):\n",
        "        self.radius = radius\n",
        "        self._perimeter = None\n",
        "\n",
        "    @property\n",
        "    def radius(self):\n",
        "        return self._radius\n",
        "\n",
        "    @radius.setter\n",
        "    def radius(self, value):\n",
        "        self._radius = value\n",
        "        self._perimeter = None\n",
        "\n",
        "    @property\n",
        "    def perimeter(self):\n",
        "        if self._perimeter is None:\n",
        "            self._perimeter = 2* math.pi * self._radius\n",
        "        return self._perimeter\n",
        "circle = Circle(3)\n",
        "print(f'{circle.perimeter:.4f}')\n"
      ],
      "execution_count": null,
      "outputs": [
        {
          "output_type": "stream",
          "text": [
            "18.8496\n"
          ],
          "name": "stdout"
        }
      ]
    },
    {
      "cell_type": "code",
      "metadata": {
        "colab": {
          "base_uri": "https://localhost:8080/"
        },
        "id": "oJ6aZ6mosk5p",
        "outputId": "8c291ecf-f1cd-4b2b-8f32-ddcf811670f2"
      },
      "source": [
        "class Rectangle:\n",
        "    def __init__(self,width,height):\n",
        "        self.width=width\n",
        "        self.height=height\n",
        "    def area(self):\n",
        "        area=self.width*self.height\n",
        "        return area\n",
        "rect=Rectangle(3,4)\n",
        "print('width:',rect.width,',','height:',rect.height,',','area->',rect.area())\n"
      ],
      "execution_count": null,
      "outputs": [
        {
          "output_type": "stream",
          "text": [
            "width: 3 , height: 4 , area-> 12\n"
          ],
          "name": "stdout"
        }
      ]
    },
    {
      "cell_type": "code",
      "metadata": {
        "colab": {
          "base_uri": "https://localhost:8080/"
        },
        "id": "fUZ0jBggul_N",
        "outputId": "a8ab6b12-44e9-4702-b0a7-6287f7e25e6b"
      },
      "source": [
        "#Another way\n",
        "class Rectangle:\n",
        " \n",
        "    def __init__(self, width, height):\n",
        "        self.width = width\n",
        "        self.height = height\n",
        "        self._area = None\n",
        " \n",
        "    @property\n",
        "    def width(self):\n",
        "        return self._width\n",
        " \n",
        "    @width.setter\n",
        "    def width(self, value):\n",
        "        self._width = value\n",
        "        self._area = None\n",
        " \n",
        "    @property\n",
        "    def height(self):\n",
        "        return self._height\n",
        " \n",
        "    @height.setter\n",
        "    def height(self, value):\n",
        "        self._height = value\n",
        "        self._area = None\n",
        " \n",
        "    @property\n",
        "    def area(self):\n",
        "        if self._area is None:\n",
        "            self._area = self._width * self._height\n",
        "        return self._area\n",
        " \n",
        " \n",
        "rectangle = Rectangle(3, 4)\n",
        "print(f'width: {rectangle.width}, height: {rectangle.height} -> area: {rectangle.area}')\n"
      ],
      "execution_count": null,
      "outputs": [
        {
          "output_type": "stream",
          "text": [
            "width: 3, height: 4 -> area: 12\n"
          ],
          "name": "stdout"
        }
      ]
    },
    {
      "cell_type": "code",
      "metadata": {
        "colab": {
          "base_uri": "https://localhost:8080/"
        },
        "id": "b42byXz9wT7g",
        "outputId": "bd944471-e7e5-41d8-d8ea-9682faf93c18"
      },
      "source": [
        "class Rectangle:\n",
        "\n",
        "    def __init__(self, width, height):\n",
        "        self.width = width\n",
        "        self.height = height\n",
        "        self._perimeter = None\n",
        "\n",
        "    @property\n",
        "    def width(self):\n",
        "        return self._width\n",
        "\n",
        "    @width.setter\n",
        "    def width(self, value):\n",
        "        self._width = value\n",
        "        self._perimeter = None\n",
        "\n",
        "    @property\n",
        "    def height(self):\n",
        "        return self._height\n",
        "\n",
        "    @height.setter\n",
        "    def height(self, value):\n",
        "        self._height = value\n",
        "        self._perimeter = None\n",
        "\n",
        "    @property\n",
        "    def perimeter(self):\n",
        "        if self._perimeter is None:\n",
        "            self._perimeter = 2*(self._width + self._height)\n",
        "        return self._perimeter\n",
        "rect=Rectangle(3,4)\n",
        "print(f'width: {rect.width}, height: {rect.height} -> perimeter: {rect.perimeter}')"
      ],
      "execution_count": null,
      "outputs": [
        {
          "output_type": "stream",
          "text": [
            "width: 3, height: 4 -> perimeter: 14\n"
          ],
          "name": "stdout"
        }
      ]
    },
    {
      "cell_type": "code",
      "metadata": {
        "colab": {
          "base_uri": "https://localhost:8080/"
        },
        "id": "OED3Y221RfmF",
        "outputId": "45efaf17-254a-40f2-f4a5-f06d36d43df5"
      },
      "source": [
        "class Person:\n",
        " \n",
        "    def __init__(self, fname, lname):\n",
        "        self.fname = fname\n",
        "        self.lname = lname\n",
        " \n",
        "    def __repr__(self):\n",
        "        #rep='Person(fname=',self.fname,',lname=',self.lname,')'\n",
        "        return  f\"Person(fname='{self.fname}', lname='{self.lname}')\"\n",
        " \n",
        " \n",
        "person = Person('Anam', 'Khalil')\n",
        "print(person)"
      ],
      "execution_count": null,
      "outputs": [
        {
          "output_type": "stream",
          "text": [
            "Person(fname='Anam', lname='Khalil')\n"
          ],
          "name": "stdout"
        }
      ]
    },
    {
      "cell_type": "markdown",
      "metadata": {
        "id": "C2q5P7TcV42y"
      },
      "source": [
        "#classmethod()"
      ]
    },
    {
      "cell_type": "code",
      "metadata": {
        "colab": {
          "base_uri": "https://localhost:8080/"
        },
        "id": "uiuj6f27mNYh",
        "outputId": "ced11337-aab8-47da-aefb-fae599c461d7"
      },
      "source": [
        "class Person:\n",
        "    @classmethod\n",
        "    def show_details(cls):\n",
        "        print(f\"Running from {cls.__name__} class\")\n",
        "Person.show_details()"
      ],
      "execution_count": null,
      "outputs": [
        {
          "output_type": "stream",
          "text": [
            "Running from Person class\n"
          ],
          "name": "stdout"
        }
      ]
    },
    {
      "cell_type": "markdown",
      "metadata": {
        "id": "T_PpcXGEoVWw"
      },
      "source": [
        "#find the number of instances of class using classmethod decorator"
      ]
    },
    {
      "cell_type": "code",
      "metadata": {
        "colab": {
          "base_uri": "https://localhost:8080/"
        },
        "id": "jdrtEoIKnqb3",
        "outputId": "81b2e89a-0161-4366-dbca-373d6f4a788c"
      },
      "source": [
        "class Person:\n",
        "  instances=[]\n",
        "  def __init__(self):\n",
        "    Person.instances.append(self)\n",
        "  \n",
        "  @classmethod\n",
        "  def count_instances(cls):\n",
        "    return len(Person.instances)\n",
        "p1=Person()\n",
        "p2=Person()\n",
        "p3=Person()\n",
        "print(Person.count_instances())\n",
        "  "
      ],
      "execution_count": null,
      "outputs": [
        {
          "output_type": "stream",
          "text": [
            "3\n"
          ],
          "name": "stdout"
        }
      ]
    },
    {
      "cell_type": "code",
      "metadata": {
        "colab": {
          "base_uri": "https://localhost:8080/"
        },
        "id": "w4zLcqepodUQ",
        "outputId": "1e3ca142-cade-429f-b66e-4ab17d3b8cc0"
      },
      "source": [
        "class Person:\n",
        " \n",
        "    instances = []\n",
        " \n",
        "    def __init__(self, first_name, last_name):\n",
        "        self.first_name = first_name\n",
        "        self.last_name = last_name\n",
        "        Person.instances.append(self)\n",
        "    \n",
        "    @classmethod\n",
        "    def count_instances(cls):\n",
        "        return len(Person.instances)\n",
        " \n",
        " \n",
        "person1 = Person('John', 'Doe')\n",
        "person2 = Person('Mike', 'Smith')\n",
        "#person3=Person('Yusra','Khalil')\n",
        "print(Person.count_instances())#instance of Person class\n",
        "print(person1.count_instances())"
      ],
      "execution_count": null,
      "outputs": [
        {
          "output_type": "stream",
          "text": [
            "2\n",
            "2\n"
          ],
          "name": "stdout"
        }
      ]
    },
    {
      "cell_type": "markdown",
      "metadata": {
        "id": "m05l-cH5qW5l"
      },
      "source": [
        "#@staticmethod decorator\n",
        "(Static methods, much like class methods, are methods that are bound to a class rather than its object.\n",
        "\n",
        "They do not require a class instance creation. So, they are not dependent on the state of the object.)"
      ]
    },
    {
      "cell_type": "code",
      "metadata": {
        "colab": {
          "base_uri": "https://localhost:8080/"
        },
        "id": "z9mxEp-WqeYl",
        "outputId": "7368de91-32b3-43b1-eb03-49d845e23509"
      },
      "source": [
        "import datetime\n",
        "class container:\n",
        "      def __init__(self):\n",
        "        now=datetime.datetime.now()\n",
        "        print(now)\n",
        "c=container()\n"
      ],
      "execution_count": null,
      "outputs": [
        {
          "output_type": "stream",
          "text": [
            "2021-05-21 16:04:30.920930\n"
          ],
          "name": "stdout"
        }
      ]
    },
    {
      "cell_type": "code",
      "metadata": {
        "colab": {
          "base_uri": "https://localhost:8080/"
        },
        "id": "gBetQnxUrJYe",
        "outputId": "5723ea6f-cf83-40b9-c86e-d4683d739a00"
      },
      "source": [
        "import time\n",
        " \n",
        " \n",
        "class Container:\n",
        "\n",
        "    def get_current_time():\n",
        "        return time.strftime('%H:%M:%S', time.localtime())\n",
        " \n",
        "    \n",
        "print(Container.get_current_time())"
      ],
      "execution_count": null,
      "outputs": [
        {
          "output_type": "stream",
          "text": [
            "16:07:18\n"
          ],
          "name": "stdout"
        }
      ]
    },
    {
      "cell_type": "code",
      "metadata": {
        "colab": {
          "base_uri": "https://localhost:8080/"
        },
        "id": "MZjr8Xt0sEsl",
        "outputId": "7883fe55-1a40-4e6d-d5c3-d5343967bb81"
      },
      "source": [
        "#Example 1: Create a static method using staticmethod()\n",
        "class Mathematics:\n",
        "\n",
        "    def addNumbers(x, y):\n",
        "        return x + y\n",
        "\n",
        "# create addNumbers static method\n",
        "Mathematics.addNumbers = staticmethod(Mathematics.addNumbers)\n",
        "\n",
        "print('The sum is:', Mathematics.addNumbers(5, 10))"
      ],
      "execution_count": null,
      "outputs": [
        {
          "output_type": "stream",
          "text": [
            "The sum is: 15\n"
          ],
          "name": "stdout"
        }
      ]
    },
    {
      "cell_type": "markdown",
      "metadata": {
        "id": "vlyszQ0gtukY"
      },
      "source": [
        "#Inheritance"
      ]
    },
    {
      "cell_type": "code",
      "metadata": {
        "colab": {
          "base_uri": "https://localhost:8080/"
        },
        "id": "O99u1RfTt0c1",
        "outputId": "80da9dab-86ae-4fa7-b17d-189f34b4f228"
      },
      "source": [
        "class Container:\n",
        "    pass\n",
        "\n",
        "\n",
        "class PlasticContainer(Container):\n",
        "    pass\n",
        "\n",
        "\n",
        "class MetalContainer(Container):\n",
        "    pass\n",
        "\n",
        "\n",
        "class CustomContainer:\n",
        "    pass\n",
        "print(issubclass(PlasticContainer,Container))\n",
        "print(issubclass(MetalContainer,Container))\n",
        "print(issubclass(CustomContainer,Container))"
      ],
      "execution_count": null,
      "outputs": [
        {
          "output_type": "stream",
          "text": [
            "True\n",
            "True\n",
            "False\n"
          ],
          "name": "stdout"
        }
      ]
    },
    {
      "cell_type": "markdown",
      "metadata": {
        "id": "08uQMWoyv1ep"
      },
      "source": [
        "#MRO(Method resolution Order)-\n",
        "https://www.educative.io/edpresso/what-is-mro-in-python"
      ]
    },
    {
      "cell_type": "code",
      "metadata": {
        "colab": {
          "base_uri": "https://localhost:8080/"
        },
        "id": "laHZqYKvvA7C",
        "outputId": "c0fc1351-0200-40d4-c0c6-e6a281a4f0dc"
      },
      "source": [
        "class Container:\n",
        "    pass\n",
        "\n",
        "\n",
        "class PlasticContainer(Container):\n",
        "    pass\n",
        "\n",
        "\n",
        "class MetalContainer(Container):\n",
        "    pass\n",
        "\n",
        "\n",
        "class SmallPlasticContainer(PlasticContainer):\n",
        "    pass\n",
        "print(SmallPlasticContainer.mro())"
      ],
      "execution_count": null,
      "outputs": [
        {
          "output_type": "stream",
          "text": [
            "[<class '__main__.SmallPlasticContainer'>, <class '__main__.PlasticContainer'>, <class '__main__.Container'>, <class 'object'>]\n"
          ],
          "name": "stdout"
        }
      ]
    },
    {
      "cell_type": "markdown",
      "metadata": {
        "id": "HCxER_olw534"
      },
      "source": [
        "#Function used with array:\n",
        "append()\n",
        "extend()-to extend all the elements of list to another list\n",
        "insert()\n",
        "remove()\n",
        "pop()\n",
        "clear()\n",
        "count()\n",
        "sort()\n",
        "reverse()\n",
        "copy()"
      ]
    },
    {
      "cell_type": "code",
      "metadata": {
        "colab": {
          "base_uri": "https://localhost:8080/"
        },
        "id": "HBeLl7FUxXMg",
        "outputId": "7ce2879f-90ad-4be4-ab38-fee114d5ae19"
      },
      "source": [
        "list1=['goa','patna','delhi','mumbai','lucknow','chennai']\n",
        "print(list1)\n",
        "list1.remove('patna')#delete a/c to value provided\n",
        "print(list1)\n",
        "list1.pop(3)#delete a/c to index number\n",
        "print(list1)"
      ],
      "execution_count": null,
      "outputs": [
        {
          "output_type": "stream",
          "text": [
            "['goa', 'patna', 'delhi', 'mumbai', 'lucknow', 'chennai']\n",
            "['goa', 'delhi', 'mumbai', 'lucknow', 'chennai']\n",
            "['goa', 'delhi', 'mumbai', 'chennai']\n"
          ],
          "name": "stdout"
        }
      ]
    },
    {
      "cell_type": "code",
      "metadata": {
        "colab": {
          "base_uri": "https://localhost:8080/"
        },
        "id": "OlHb7r1ry7c_",
        "outputId": "f02a3b6e-47ef-40f4-c2e1-b88c1cabd240"
      },
      "source": [
        "list2=[1,2,3,4,5,6]\n",
        "print(list2*3)"
      ],
      "execution_count": null,
      "outputs": [
        {
          "output_type": "stream",
          "text": [
            "[1, 2, 3, 4, 5, 6, 1, 2, 3, 4, 5, 6, 1, 2, 3, 4, 5, 6]\n"
          ],
          "name": "stdout"
        }
      ]
    },
    {
      "cell_type": "code",
      "metadata": {
        "colab": {
          "base_uri": "https://localhost:8080/"
        },
        "id": "sYwDi2o6z0a6",
        "outputId": "f3638ef3-643b-442e-fe37-dd09d560e55a"
      },
      "source": [
        "fruits=[\"banana\",\"apple\",\"guava\",\"orange\",\"pineapple\"]\n",
        "print(fruits[2:])#display elements excluding 2nd element\n",
        "print(fruits[:3])#display element including 3rd element\n",
        "print(fruits[1:4])#it excludes 1st element but includes the 4th element\n",
        "print(fruits[:-1])#it excludes -1(opposite of what we get while providing positive val)\n",
        "print(fruits[-1:])#it includes -1\n",
        "print(fruits[:-2])"
      ],
      "execution_count": null,
      "outputs": [
        {
          "output_type": "stream",
          "text": [
            "['guava', 'orange', 'pineapple']\n",
            "['banana', 'apple', 'guava']\n",
            "['apple', 'guava', 'orange']\n",
            "['banana', 'apple', 'guava', 'orange']\n",
            "['pineapple']\n",
            "['banana', 'apple', 'guava']\n"
          ],
          "name": "stdout"
        }
      ]
    },
    {
      "cell_type": "code",
      "metadata": {
        "colab": {
          "base_uri": "https://localhost:8080/"
        },
        "id": "LiP39mTr156E",
        "outputId": "193c5d06-6aea-4b0c-f348-7c6a1cf46537"
      },
      "source": [
        "multd=[[1,2],[3,4],[5,6],[7,8]]\n",
        "print(multd)\n",
        "print(multd[0])\n",
        "print(multd[3][1])"
      ],
      "execution_count": null,
      "outputs": [
        {
          "output_type": "stream",
          "text": [
            "[[1, 2], [3, 4], [5, 6], [7, 8]]\n",
            "[1, 2]\n",
            "8\n"
          ],
          "name": "stdout"
        }
      ]
    },
    {
      "cell_type": "markdown",
      "metadata": {
        "id": "wtExAicw2cHz"
      },
      "source": [
        "#File Methods\n",
        "close(),detach(),fileno(),flush(),isatty(),read(n)->read until 'n' character and if nothing is provided then read till end of file.,readable(),write() etc"
      ]
    },
    {
      "cell_type": "markdown",
      "metadata": {
        "id": "m5YRbF3E5J1z"
      },
      "source": [
        "#KEYWORDS IN PYTHON"
      ]
    },
    {
      "cell_type": "code",
      "metadata": {
        "colab": {
          "base_uri": "https://localhost:8080/",
          "height": 196
        },
        "id": "AFbEKRoy3dUi",
        "outputId": "f4fec449-b970-44f6-ebac-4d4f1b370908"
      },
      "source": [
        "#assert keyword checks if the condition is true.If the cond is true,nothing will happen.\n",
        "#If it is false then error is raised.It is used while debugging\n",
        "assert 5>4\n",
        "#we can write a msg if an assertion occur\n",
        "assert 5<4,'5 is greater than 4'"
      ],
      "execution_count": null,
      "outputs": [
        {
          "output_type": "error",
          "ename": "AssertionError",
          "evalue": "ignored",
          "traceback": [
            "\u001b[0;31m---------------------------------------------------------------------------\u001b[0m",
            "\u001b[0;31mAssertionError\u001b[0m                            Traceback (most recent call last)",
            "\u001b[0;32m<ipython-input-21-f7fa97880663>\u001b[0m in \u001b[0;36m<module>\u001b[0;34m()\u001b[0m\n\u001b[1;32m      3\u001b[0m \u001b[0;32massert\u001b[0m \u001b[0;36m5\u001b[0m\u001b[0;34m>\u001b[0m\u001b[0;36m4\u001b[0m\u001b[0;34m\u001b[0m\u001b[0;34m\u001b[0m\u001b[0m\n\u001b[1;32m      4\u001b[0m \u001b[0;31m#we can write a msg if an assertion occur\u001b[0m\u001b[0;34m\u001b[0m\u001b[0;34m\u001b[0m\u001b[0;34m\u001b[0m\u001b[0m\n\u001b[0;32m----> 5\u001b[0;31m \u001b[0;32massert\u001b[0m \u001b[0;36m5\u001b[0m\u001b[0;34m<\u001b[0m\u001b[0;36m4\u001b[0m\u001b[0;34m,\u001b[0m\u001b[0;34m'5 is greater than 4'\u001b[0m\u001b[0;34m\u001b[0m\u001b[0;34m\u001b[0m\u001b[0m\n\u001b[0m",
            "\u001b[0;31mAssertionError\u001b[0m: 5 is greater than 4"
          ]
        }
      ]
    },
    {
      "cell_type": "code",
      "metadata": {
        "colab": {
          "base_uri": "https://localhost:8080/",
          "height": 186
        },
        "id": "xNOagNny5PrB",
        "outputId": "2a33b642-2783-4207-fb30-9819820641c6"
      },
      "source": [
        "#continue & break keyword\n",
        "for i in range(1,11):#exclude 11\n",
        "  if i==5:#skips to print i=5\n",
        "    continue\n",
        "  print(i)\n",
        "\"\"\"for j in range (1,11):\n",
        "  if j==6:\n",
        "    break\n",
        "  print(j)\"\"\""
      ],
      "execution_count": null,
      "outputs": [
        {
          "output_type": "stream",
          "text": [
            "1\n",
            "2\n",
            "3\n",
            "4\n",
            "6\n",
            "7\n",
            "8\n",
            "9\n",
            "10\n"
          ],
          "name": "stdout"
        },
        {
          "output_type": "execute_result",
          "data": {
            "application/vnd.google.colaboratory.intrinsic+json": {
              "type": "string"
            },
            "text/plain": [
              "'for j in range (1,11):\\n  if j==6:\\n    break\\n  print(j)'"
            ]
          },
          "metadata": {
            "tags": []
          },
          "execution_count": 26
        }
      ]
    },
    {
      "cell_type": "code",
      "metadata": {
        "colab": {
          "base_uri": "https://localhost:8080/"
        },
        "id": "LITHSDj76Ll9",
        "outputId": "22ff283b-bce5-4fa8-f64e-e3ceeda5bb90"
      },
      "source": [
        "x=int(input(\"Enter number: \"))\n",
        "if x==1:\n",
        "  print(\"one\")\n",
        "elif x==2:\n",
        "  print(\"two\")\n",
        "else:\n",
        "  print(\"other number\")"
      ],
      "execution_count": null,
      "outputs": [
        {
          "output_type": "stream",
          "text": [
            "Enter number: 11\n",
            "other number\n"
          ],
          "name": "stdout"
        }
      ]
    },
    {
      "cell_type": "code",
      "metadata": {
        "colab": {
          "base_uri": "https://localhost:8080/"
        },
        "id": "E2qJnU6f7s19",
        "outputId": "dbef74f4-8d21-4194-ca69-20e9d82be246"
      },
      "source": [
        "#while defining anonymous function we use lambda keyword\n",
        "a=lambda x:x*2\n",
        "for i in range(1,6):\n",
        "  print(a(i))"
      ],
      "execution_count": null,
      "outputs": [
        {
          "output_type": "stream",
          "text": [
            "2\n",
            "4\n",
            "6\n",
            "8\n",
            "10\n"
          ],
          "name": "stdout"
        }
      ]
    },
    {
      "cell_type": "code",
      "metadata": {
        "colab": {
          "base_uri": "https://localhost:8080/"
        },
        "id": "Jrj30Yrs8XK8",
        "outputId": "b284b522-0039-4ebf-861c-509e28f2d532"
      },
      "source": [
        "def outer_f():\n",
        "  a=5\n",
        "  def inner_f1():\n",
        "    nonlocal a\n",
        "    a=4\n",
        "    print(a)\n",
        "  def inner_f2():\n",
        "    nonlocal a\n",
        "    a=6\n",
        "  inner_f1()\n",
        "  inner_f2()\n",
        "  print(a)\n",
        "outer_f()"
      ],
      "execution_count": null,
      "outputs": [
        {
          "output_type": "stream",
          "text": [
            "4\n",
            "6\n"
          ],
          "name": "stdout"
        }
      ]
    },
    {
      "cell_type": "markdown",
      "metadata": {
        "id": "7DYYlGh_edxG"
      },
      "source": [
        "#TUPLES\n",
        "tuples are mostly used to store heterogenous data and it is immutable that's why iterating through tuple is faster.Tuples that contain immutable data can be used as a key for dict.\n",
        "\n",
        "**function of tuple -->\n",
        "all(),any(),enumerate(),sorted(),tuple(),min(),max(),sum(),len()"
      ]
    },
    {
      "cell_type": "code",
      "metadata": {
        "colab": {
          "base_uri": "https://localhost:8080/"
        },
        "id": "laj-qDIHfE0V",
        "outputId": "b2be813f-ceb0-4cc0-eb64-3e380fae5355"
      },
      "source": [
        "tuple1=(1,2,4,3,0)\n",
        "print(sorted(tuple1))\n",
        "print(sum(tuple1))\n",
        "print(min(tuple1))\n",
        "print(max(tuple1))\n",
        "#print(enumerate(tuple1))"
      ],
      "execution_count": 7,
      "outputs": [
        {
          "output_type": "stream",
          "text": [
            "[0, 1, 2, 3, 4]\n",
            "10\n",
            "0\n",
            "4\n",
            "<enumerate object at 0x7f099e46d050>\n"
          ],
          "name": "stdout"
        }
      ]
    },
    {
      "cell_type": "code",
      "metadata": {
        "colab": {
          "base_uri": "https://localhost:8080/"
        },
        "id": "9sNwVt0GhvoM",
        "outputId": "4d4b515c-57b9-4904-978b-3ae17d30bbfc"
      },
      "source": [
        "#nesting of tuple\n",
        "tuple2=([1,2,3],(4,5,6),\"yusra\")\n",
        "print(tuple2)\n",
        "print(tuple2[2][3])#r\n",
        "print(tuple2[0][2])#3\n",
        "\n",
        "#tuple packing(declaring tuple without paranthesis)\n",
        "tuple3=\"yusra\",\"anam\",22,19\n",
        "print(tuple3)\n",
        "#tuple unpacking i.e extract the values back into variables\n",
        "prsn1,prsn2,age1,age2=tuple3\n",
        "print(prsn1)\n",
        "print(prsn2)\n",
        "print(age1)\n",
        "print(age2)\n",
        "print(type(tuple3))"
      ],
      "execution_count": 16,
      "outputs": [
        {
          "output_type": "stream",
          "text": [
            "([1, 2, 3], (4, 5, 6), 'yusra')\n",
            "r\n",
            "3\n",
            "('yusra', 'anam', 22, 19)\n",
            "yusra\n",
            "anam\n",
            "22\n",
            "19\n",
            "<class 'tuple'>\n"
          ],
          "name": "stdout"
        }
      ]
    },
    {
      "cell_type": "code",
      "metadata": {
        "colab": {
          "base_uri": "https://localhost:8080/"
        },
        "id": "RhlKm5mbk3Cp",
        "outputId": "f3472300-2b4c-4f7f-b50d-6594dd88cbf3"
      },
      "source": [
        "#we can reassign a tuple but can't change data of already assign tuple\n",
        "tup1=(1,2,3,4,5,6,7)\n",
        "#tup1[2]=10#error\n",
        "print(tup1)\n",
        "tup1=(\"anam\",\"faraz\",\"yumna\")\n",
        "print(tup1)"
      ],
      "execution_count": 17,
      "outputs": [
        {
          "output_type": "stream",
          "text": [
            "(1, 2, 3, 4, 5, 6, 7)\n",
            "('anam', 'faraz', 'yumna')\n"
          ],
          "name": "stdout"
        }
      ]
    },
    {
      "cell_type": "code",
      "metadata": {
        "id": "Iz6HNKEUld6_"
      },
      "source": [
        "#deletion of tuple\n",
        "#we cannot delete a particular element of tuple but can del the whole tuple\n",
        "tup_1=(1,2,3,4,6,8)\n",
        "#del tup_1[4] #error\n",
        "\n",
        "del tup_1\n",
        "#print(tup_1)"
      ],
      "execution_count": 27,
      "outputs": []
    },
    {
      "cell_type": "code",
      "metadata": {
        "colab": {
          "base_uri": "https://localhost:8080/"
        },
        "id": "fiJ94pHXl8b6",
        "outputId": "57cf0c5a-59e8-48bd-c654-c20ce47156db"
      },
      "source": [
        "#count and index func\n",
        "tup__1=('w','e','l','c','o','m','e')\n",
        "print(tup__1.count('e'))\n",
        "print(tup__1.index('w'))\n",
        "\n",
        "#iterating through tuple\n",
        "for letters in tup__1:\n",
        "  print(\"letters in tuple is ->\",letters)"
      ],
      "execution_count": 24,
      "outputs": [
        {
          "output_type": "stream",
          "text": [
            "2\n",
            "0\n",
            "letters in tuple is -> w\n",
            "letters in tuple is -> e\n",
            "letters in tuple is -> l\n",
            "letters in tuple is -> c\n",
            "letters in tuple is -> o\n",
            "letters in tuple is -> m\n",
            "letters in tuple is -> e\n"
          ],
          "name": "stdout"
        }
      ]
    },
    {
      "cell_type": "markdown",
      "metadata": {
        "id": "d25QQuERohwM"
      },
      "source": [
        "#SETS\n",
        "they are unordered collection of unique items.no duplicate items are allowed.Sets are used to do mathematical operation like union ,intersection,symmetric difference etc.\n",
        "\n",
        "**Function on sets:\n",
        "add(),clear(),copy(),difference(),discard(),intersection(),isdisjoint(),issubset()\n",
        "\n"
      ]
    },
    {
      "cell_type": "code",
      "metadata": {
        "colab": {
          "base_uri": "https://localhost:8080/"
        },
        "id": "rvmP_0VBrQAj",
        "outputId": "09e556e4-5d2d-4281-ac2b-a426fd36f7cd"
      },
      "source": [
        "set1={1,2,4,4}\n",
        "print(set1)\n",
        "set2=set1\n",
        "print(set2)\n",
        "#set cannot contain mutable items\n",
        "#set3={1,2,3,[6,7]}#error\n",
        "#print(set3)"
      ],
      "execution_count": 32,
      "outputs": [
        {
          "output_type": "stream",
          "text": [
            "{1, 2, 4}\n",
            "{1, 2, 4}\n"
          ],
          "name": "stdout"
        }
      ]
    },
    {
      "cell_type": "code",
      "metadata": {
        "colab": {
          "base_uri": "https://localhost:8080/"
        },
        "id": "8_LFsVOmsX31",
        "outputId": "400276bd-7065-46de-efb9-ab3e5df11c60"
      },
      "source": [
        "#we can make list from a set\n",
        "my_list=list({1,2,3,4})\n",
        "print(type(my_list))\n",
        "#we can make set from a list\n",
        "set__1=set([1,2,3,4])\n",
        "print(type(set__1))"
      ],
      "execution_count": 35,
      "outputs": [
        {
          "output_type": "stream",
          "text": [
            "<class 'list'>\n",
            "<class 'set'>\n"
          ],
          "name": "stdout"
        }
      ]
    },
    {
      "cell_type": "code",
      "metadata": {
        "colab": {
          "base_uri": "https://localhost:8080/"
        },
        "id": "2Hnej7qRtYm_",
        "outputId": "7cbcf95e-aeb0-419f-da91-34ae4ff85b45"
      },
      "source": [
        "#func on set\n",
        "#add element to set\n",
        "set01={2,3,4,5,6}\n",
        "set01.add(10)\n",
        "print(set01)\n",
        "#add multiple elements\n",
        "set01.update([9,11,12])\n",
        "print(set01)\n",
        "#add list and set both\n",
        "set01.update({13,14,15},[16,17,18])\n",
        "print(set01)\n",
        "set01.discard(6) #discard an element which is not present then no error\n",
        "#set01.remove(6) #remove an element which is not present then key error raised"
      ],
      "execution_count": 41,
      "outputs": [
        {
          "output_type": "stream",
          "text": [
            "{2, 3, 4, 5, 6, 10}\n",
            "{2, 3, 4, 5, 6, 9, 10, 11, 12}\n",
            "{2, 3, 4, 5, 6, 9, 10, 11, 12, 13, 14, 15, 16, 17, 18}\n"
          ],
          "name": "stdout"
        }
      ]
    },
    {
      "cell_type": "markdown",
      "metadata": {
        "id": "WcyGwxy7z0py"
      },
      "source": [
        "#Mathematical operation set\n",
        "union(|)(for combining all elements),\n",
        "intersection(&)(for common elements\n",
        "\n"
      ]
    },
    {
      "cell_type": "code",
      "metadata": {
        "colab": {
          "base_uri": "https://localhost:8080/"
        },
        "id": "R4EA05Sh0sVU",
        "outputId": "d84feba5-33e7-477f-b395-1b42259f4edc"
      },
      "source": [
        "#use - operator for set difference\n",
        "set_01={1,2,3,4,5}\n",
        "set_02={4,5,6,7,8}\n",
        "print(set_01-set_02)#4&5 will be removed as it is present in set_02 also\n",
        "print(set_02-set_01)#or print(set_02.difference(set_01))\n",
        "print(set_02|set_01)#union print(set_01.union(set_02))\n",
        "print(set_02&set_01)#intersection or print(set_01.intersection(set_02))\n",
        "print(set_01.symmetric_difference(set_02))#removes the common elements"
      ],
      "execution_count": 53,
      "outputs": [
        {
          "output_type": "stream",
          "text": [
            "{1, 2, 3}\n",
            "{8, 6, 7}\n",
            "{1, 2, 3, 4, 5, 6, 7, 8}\n",
            "{4, 5}\n",
            "{1, 2, 3, 6, 7, 8}\n"
          ],
          "name": "stdout"
        }
      ]
    },
    {
      "cell_type": "code",
      "metadata": {
        "colab": {
          "base_uri": "https://localhost:8080/"
        },
        "id": "pmXfeEE12Zpg",
        "outputId": "67405aed-b1db-4fb6-e47b-9f4948cb191c"
      },
      "source": [
        "#iterating through set\n",
        "for letters in set(\"welcome\"):\n",
        "  print(letters)"
      ],
      "execution_count": 50,
      "outputs": [
        {
          "output_type": "stream",
          "text": [
            "e\n",
            "l\n",
            "m\n",
            "c\n",
            "w\n",
            "o\n"
          ],
          "name": "stdout"
        }
      ]
    },
    {
      "cell_type": "code",
      "metadata": {
        "colab": {
          "base_uri": "https://localhost:8080/"
        },
        "id": "4XQnoj583BiJ",
        "outputId": "5c78cf10-9e8d-427e-a604-1fe261496774"
      },
      "source": [
        "#sorted() function take the elements of set ,sort them and assign it to a list and return it\n",
        "set_03={33,55,22,11,99,111,102}\n",
        "print(sorted(set_03))"
      ],
      "execution_count": 52,
      "outputs": [
        {
          "output_type": "stream",
          "text": [
            "[11, 22, 33, 55, 99, 102, 111]\n"
          ],
          "name": "stdout"
        }
      ]
    },
    {
      "cell_type": "code",
      "metadata": {
        "id": "sUt5xKuq38eD"
      },
      "source": [
        "#python frozenset\n"
      ],
      "execution_count": null,
      "outputs": []
    }
  ]
}